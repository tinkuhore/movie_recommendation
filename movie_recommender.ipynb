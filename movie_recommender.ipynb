{
 "cells": [
  {
   "cell_type": "markdown",
   "id": "a70dfd01",
   "metadata": {},
   "source": [
    "# Project Objective\n",
    "\n",
    "## Movie Recommendation\n",
    "\n",
    "In this project I'm going to make a webpage where one can search with a movie name (available in the list) and the programe will recommend 5 similar movie names with poster picture automatically."
   ]
  },
  {
   "cell_type": "markdown",
   "id": "ed701bd4",
   "metadata": {},
   "source": [
    "# Data Source\n",
    "\n",
    "- https://www.kaggle.com/datasets/rounakbanik/the-movies-dataset?resource=download&select=movies_metadata.csv"
   ]
  },
  {
   "cell_type": "code",
   "execution_count": 1,
   "id": "117d8972",
   "metadata": {},
   "outputs": [],
   "source": [
    "import pandas as pd\n",
    "import numpy as np\n",
    "import ast"
   ]
  },
  {
   "cell_type": "code",
   "execution_count": 2,
   "id": "354a8cfc",
   "metadata": {},
   "outputs": [],
   "source": [
    "credits_df = pd.read_csv(\"archive/credits.csv\")"
   ]
  },
  {
   "cell_type": "code",
   "execution_count": 3,
   "id": "34f3c54d",
   "metadata": {},
   "outputs": [],
   "source": [
    "keywords_df = pd.read_csv(\"archive/keywords.csv\")"
   ]
  },
  {
   "cell_type": "code",
   "execution_count": 4,
   "id": "a82bebb5",
   "metadata": {},
   "outputs": [
    {
     "name": "stderr",
     "output_type": "stream",
     "text": [
      "/tmp/ipykernel_13577/369803085.py:1: DtypeWarning: Columns (10) have mixed types. Specify dtype option on import or set low_memory=False.\n",
      "  movies_df = pd.read_csv(\"archive/movies_metadata.csv\")\n"
     ]
    }
   ],
   "source": [
    "movies_df = pd.read_csv(\"archive/movies_metadata.csv\")"
   ]
  },
  {
   "cell_type": "code",
   "execution_count": 5,
   "id": "373d5a99",
   "metadata": {},
   "outputs": [
    {
     "data": {
      "text/html": [
       "<div>\n",
       "<style scoped>\n",
       "    .dataframe tbody tr th:only-of-type {\n",
       "        vertical-align: middle;\n",
       "    }\n",
       "\n",
       "    .dataframe tbody tr th {\n",
       "        vertical-align: top;\n",
       "    }\n",
       "\n",
       "    .dataframe thead th {\n",
       "        text-align: right;\n",
       "    }\n",
       "</style>\n",
       "<table border=\"1\" class=\"dataframe\">\n",
       "  <thead>\n",
       "    <tr style=\"text-align: right;\">\n",
       "      <th></th>\n",
       "      <th>cast</th>\n",
       "      <th>crew</th>\n",
       "      <th>id</th>\n",
       "    </tr>\n",
       "  </thead>\n",
       "  <tbody>\n",
       "    <tr>\n",
       "      <th>0</th>\n",
       "      <td>[{'cast_id': 14, 'character': 'Woody (voice)',...</td>\n",
       "      <td>[{'credit_id': '52fe4284c3a36847f8024f49', 'de...</td>\n",
       "      <td>862</td>\n",
       "    </tr>\n",
       "    <tr>\n",
       "      <th>1</th>\n",
       "      <td>[{'cast_id': 1, 'character': 'Alan Parrish', '...</td>\n",
       "      <td>[{'credit_id': '52fe44bfc3a36847f80a7cd1', 'de...</td>\n",
       "      <td>8844</td>\n",
       "    </tr>\n",
       "    <tr>\n",
       "      <th>2</th>\n",
       "      <td>[{'cast_id': 2, 'character': 'Max Goldman', 'c...</td>\n",
       "      <td>[{'credit_id': '52fe466a9251416c75077a89', 'de...</td>\n",
       "      <td>15602</td>\n",
       "    </tr>\n",
       "    <tr>\n",
       "      <th>3</th>\n",
       "      <td>[{'cast_id': 1, 'character': \"Savannah 'Vannah...</td>\n",
       "      <td>[{'credit_id': '52fe44779251416c91011acb', 'de...</td>\n",
       "      <td>31357</td>\n",
       "    </tr>\n",
       "    <tr>\n",
       "      <th>4</th>\n",
       "      <td>[{'cast_id': 1, 'character': 'George Banks', '...</td>\n",
       "      <td>[{'credit_id': '52fe44959251416c75039ed7', 'de...</td>\n",
       "      <td>11862</td>\n",
       "    </tr>\n",
       "  </tbody>\n",
       "</table>\n",
       "</div>"
      ],
      "text/plain": [
       "                                                cast  \\\n",
       "0  [{'cast_id': 14, 'character': 'Woody (voice)',...   \n",
       "1  [{'cast_id': 1, 'character': 'Alan Parrish', '...   \n",
       "2  [{'cast_id': 2, 'character': 'Max Goldman', 'c...   \n",
       "3  [{'cast_id': 1, 'character': \"Savannah 'Vannah...   \n",
       "4  [{'cast_id': 1, 'character': 'George Banks', '...   \n",
       "\n",
       "                                                crew     id  \n",
       "0  [{'credit_id': '52fe4284c3a36847f8024f49', 'de...    862  \n",
       "1  [{'credit_id': '52fe44bfc3a36847f80a7cd1', 'de...   8844  \n",
       "2  [{'credit_id': '52fe466a9251416c75077a89', 'de...  15602  \n",
       "3  [{'credit_id': '52fe44779251416c91011acb', 'de...  31357  \n",
       "4  [{'credit_id': '52fe44959251416c75039ed7', 'de...  11862  "
      ]
     },
     "execution_count": 5,
     "metadata": {},
     "output_type": "execute_result"
    }
   ],
   "source": [
    "credits_df.head()"
   ]
  },
  {
   "cell_type": "code",
   "execution_count": 6,
   "id": "0eb6f940",
   "metadata": {},
   "outputs": [
    {
     "data": {
      "text/plain": [
       "cast    object\n",
       "crew    object\n",
       "id       int64\n",
       "dtype: object"
      ]
     },
     "execution_count": 6,
     "metadata": {},
     "output_type": "execute_result"
    }
   ],
   "source": [
    "credits_df.dtypes"
   ]
  },
  {
   "cell_type": "markdown",
   "id": "e5ea3163",
   "metadata": {},
   "source": [
    "## Observations:\n",
    "\n",
    "- All 3 features are usefull from our project perspective.\n",
    "- We just need first 3 out of all cast members.\n",
    "- From crew column we need the Director's name only."
   ]
  },
  {
   "cell_type": "code",
   "execution_count": 7,
   "id": "35eba4bd",
   "metadata": {},
   "outputs": [
    {
     "data": {
      "text/html": [
       "<div>\n",
       "<style scoped>\n",
       "    .dataframe tbody tr th:only-of-type {\n",
       "        vertical-align: middle;\n",
       "    }\n",
       "\n",
       "    .dataframe tbody tr th {\n",
       "        vertical-align: top;\n",
       "    }\n",
       "\n",
       "    .dataframe thead th {\n",
       "        text-align: right;\n",
       "    }\n",
       "</style>\n",
       "<table border=\"1\" class=\"dataframe\">\n",
       "  <thead>\n",
       "    <tr style=\"text-align: right;\">\n",
       "      <th></th>\n",
       "      <th>id</th>\n",
       "      <th>keywords</th>\n",
       "    </tr>\n",
       "  </thead>\n",
       "  <tbody>\n",
       "    <tr>\n",
       "      <th>0</th>\n",
       "      <td>862</td>\n",
       "      <td>[{'id': 931, 'name': 'jealousy'}, {'id': 4290,...</td>\n",
       "    </tr>\n",
       "    <tr>\n",
       "      <th>1</th>\n",
       "      <td>8844</td>\n",
       "      <td>[{'id': 10090, 'name': 'board game'}, {'id': 1...</td>\n",
       "    </tr>\n",
       "    <tr>\n",
       "      <th>2</th>\n",
       "      <td>15602</td>\n",
       "      <td>[{'id': 1495, 'name': 'fishing'}, {'id': 12392...</td>\n",
       "    </tr>\n",
       "    <tr>\n",
       "      <th>3</th>\n",
       "      <td>31357</td>\n",
       "      <td>[{'id': 818, 'name': 'based on novel'}, {'id':...</td>\n",
       "    </tr>\n",
       "    <tr>\n",
       "      <th>4</th>\n",
       "      <td>11862</td>\n",
       "      <td>[{'id': 1009, 'name': 'baby'}, {'id': 1599, 'n...</td>\n",
       "    </tr>\n",
       "  </tbody>\n",
       "</table>\n",
       "</div>"
      ],
      "text/plain": [
       "      id                                           keywords\n",
       "0    862  [{'id': 931, 'name': 'jealousy'}, {'id': 4290,...\n",
       "1   8844  [{'id': 10090, 'name': 'board game'}, {'id': 1...\n",
       "2  15602  [{'id': 1495, 'name': 'fishing'}, {'id': 12392...\n",
       "3  31357  [{'id': 818, 'name': 'based on novel'}, {'id':...\n",
       "4  11862  [{'id': 1009, 'name': 'baby'}, {'id': 1599, 'n..."
      ]
     },
     "execution_count": 7,
     "metadata": {},
     "output_type": "execute_result"
    }
   ],
   "source": [
    "keywords_df.head()"
   ]
  },
  {
   "cell_type": "code",
   "execution_count": 8,
   "id": "04767b17",
   "metadata": {},
   "outputs": [
    {
     "data": {
      "text/plain": [
       "id           int64\n",
       "keywords    object\n",
       "dtype: object"
      ]
     },
     "execution_count": 8,
     "metadata": {},
     "output_type": "execute_result"
    }
   ],
   "source": [
    "keywords_df.dtypes"
   ]
  },
  {
   "cell_type": "markdown",
   "id": "7da60eb1",
   "metadata": {},
   "source": [
    "## Observations:\n",
    "\n",
    "- from keywords column we need to extract usefull keywords only."
   ]
  },
  {
   "cell_type": "code",
   "execution_count": 9,
   "id": "73c05a69",
   "metadata": {},
   "outputs": [
    {
     "data": {
      "text/html": [
       "<div>\n",
       "<style scoped>\n",
       "    .dataframe tbody tr th:only-of-type {\n",
       "        vertical-align: middle;\n",
       "    }\n",
       "\n",
       "    .dataframe tbody tr th {\n",
       "        vertical-align: top;\n",
       "    }\n",
       "\n",
       "    .dataframe thead th {\n",
       "        text-align: right;\n",
       "    }\n",
       "</style>\n",
       "<table border=\"1\" class=\"dataframe\">\n",
       "  <thead>\n",
       "    <tr style=\"text-align: right;\">\n",
       "      <th></th>\n",
       "      <th>adult</th>\n",
       "      <th>belongs_to_collection</th>\n",
       "      <th>budget</th>\n",
       "      <th>genres</th>\n",
       "      <th>homepage</th>\n",
       "      <th>id</th>\n",
       "      <th>imdb_id</th>\n",
       "      <th>original_language</th>\n",
       "      <th>original_title</th>\n",
       "      <th>overview</th>\n",
       "      <th>...</th>\n",
       "      <th>release_date</th>\n",
       "      <th>revenue</th>\n",
       "      <th>runtime</th>\n",
       "      <th>spoken_languages</th>\n",
       "      <th>status</th>\n",
       "      <th>tagline</th>\n",
       "      <th>title</th>\n",
       "      <th>video</th>\n",
       "      <th>vote_average</th>\n",
       "      <th>vote_count</th>\n",
       "    </tr>\n",
       "  </thead>\n",
       "  <tbody>\n",
       "    <tr>\n",
       "      <th>0</th>\n",
       "      <td>False</td>\n",
       "      <td>{'id': 10194, 'name': 'Toy Story Collection', ...</td>\n",
       "      <td>30000000</td>\n",
       "      <td>[{'id': 16, 'name': 'Animation'}, {'id': 35, '...</td>\n",
       "      <td>http://toystory.disney.com/toy-story</td>\n",
       "      <td>862</td>\n",
       "      <td>tt0114709</td>\n",
       "      <td>en</td>\n",
       "      <td>Toy Story</td>\n",
       "      <td>Led by Woody, Andy's toys live happily in his ...</td>\n",
       "      <td>...</td>\n",
       "      <td>1995-10-30</td>\n",
       "      <td>373554033.0</td>\n",
       "      <td>81.0</td>\n",
       "      <td>[{'iso_639_1': 'en', 'name': 'English'}]</td>\n",
       "      <td>Released</td>\n",
       "      <td>NaN</td>\n",
       "      <td>Toy Story</td>\n",
       "      <td>False</td>\n",
       "      <td>7.7</td>\n",
       "      <td>5415.0</td>\n",
       "    </tr>\n",
       "    <tr>\n",
       "      <th>1</th>\n",
       "      <td>False</td>\n",
       "      <td>NaN</td>\n",
       "      <td>65000000</td>\n",
       "      <td>[{'id': 12, 'name': 'Adventure'}, {'id': 14, '...</td>\n",
       "      <td>NaN</td>\n",
       "      <td>8844</td>\n",
       "      <td>tt0113497</td>\n",
       "      <td>en</td>\n",
       "      <td>Jumanji</td>\n",
       "      <td>When siblings Judy and Peter discover an encha...</td>\n",
       "      <td>...</td>\n",
       "      <td>1995-12-15</td>\n",
       "      <td>262797249.0</td>\n",
       "      <td>104.0</td>\n",
       "      <td>[{'iso_639_1': 'en', 'name': 'English'}, {'iso...</td>\n",
       "      <td>Released</td>\n",
       "      <td>Roll the dice and unleash the excitement!</td>\n",
       "      <td>Jumanji</td>\n",
       "      <td>False</td>\n",
       "      <td>6.9</td>\n",
       "      <td>2413.0</td>\n",
       "    </tr>\n",
       "    <tr>\n",
       "      <th>2</th>\n",
       "      <td>False</td>\n",
       "      <td>{'id': 119050, 'name': 'Grumpy Old Men Collect...</td>\n",
       "      <td>0</td>\n",
       "      <td>[{'id': 10749, 'name': 'Romance'}, {'id': 35, ...</td>\n",
       "      <td>NaN</td>\n",
       "      <td>15602</td>\n",
       "      <td>tt0113228</td>\n",
       "      <td>en</td>\n",
       "      <td>Grumpier Old Men</td>\n",
       "      <td>A family wedding reignites the ancient feud be...</td>\n",
       "      <td>...</td>\n",
       "      <td>1995-12-22</td>\n",
       "      <td>0.0</td>\n",
       "      <td>101.0</td>\n",
       "      <td>[{'iso_639_1': 'en', 'name': 'English'}]</td>\n",
       "      <td>Released</td>\n",
       "      <td>Still Yelling. Still Fighting. Still Ready for...</td>\n",
       "      <td>Grumpier Old Men</td>\n",
       "      <td>False</td>\n",
       "      <td>6.5</td>\n",
       "      <td>92.0</td>\n",
       "    </tr>\n",
       "    <tr>\n",
       "      <th>3</th>\n",
       "      <td>False</td>\n",
       "      <td>NaN</td>\n",
       "      <td>16000000</td>\n",
       "      <td>[{'id': 35, 'name': 'Comedy'}, {'id': 18, 'nam...</td>\n",
       "      <td>NaN</td>\n",
       "      <td>31357</td>\n",
       "      <td>tt0114885</td>\n",
       "      <td>en</td>\n",
       "      <td>Waiting to Exhale</td>\n",
       "      <td>Cheated on, mistreated and stepped on, the wom...</td>\n",
       "      <td>...</td>\n",
       "      <td>1995-12-22</td>\n",
       "      <td>81452156.0</td>\n",
       "      <td>127.0</td>\n",
       "      <td>[{'iso_639_1': 'en', 'name': 'English'}]</td>\n",
       "      <td>Released</td>\n",
       "      <td>Friends are the people who let you be yourself...</td>\n",
       "      <td>Waiting to Exhale</td>\n",
       "      <td>False</td>\n",
       "      <td>6.1</td>\n",
       "      <td>34.0</td>\n",
       "    </tr>\n",
       "    <tr>\n",
       "      <th>4</th>\n",
       "      <td>False</td>\n",
       "      <td>{'id': 96871, 'name': 'Father of the Bride Col...</td>\n",
       "      <td>0</td>\n",
       "      <td>[{'id': 35, 'name': 'Comedy'}]</td>\n",
       "      <td>NaN</td>\n",
       "      <td>11862</td>\n",
       "      <td>tt0113041</td>\n",
       "      <td>en</td>\n",
       "      <td>Father of the Bride Part II</td>\n",
       "      <td>Just when George Banks has recovered from his ...</td>\n",
       "      <td>...</td>\n",
       "      <td>1995-02-10</td>\n",
       "      <td>76578911.0</td>\n",
       "      <td>106.0</td>\n",
       "      <td>[{'iso_639_1': 'en', 'name': 'English'}]</td>\n",
       "      <td>Released</td>\n",
       "      <td>Just When His World Is Back To Normal... He's ...</td>\n",
       "      <td>Father of the Bride Part II</td>\n",
       "      <td>False</td>\n",
       "      <td>5.7</td>\n",
       "      <td>173.0</td>\n",
       "    </tr>\n",
       "  </tbody>\n",
       "</table>\n",
       "<p>5 rows × 24 columns</p>\n",
       "</div>"
      ],
      "text/plain": [
       "   adult                              belongs_to_collection    budget  \\\n",
       "0  False  {'id': 10194, 'name': 'Toy Story Collection', ...  30000000   \n",
       "1  False                                                NaN  65000000   \n",
       "2  False  {'id': 119050, 'name': 'Grumpy Old Men Collect...         0   \n",
       "3  False                                                NaN  16000000   \n",
       "4  False  {'id': 96871, 'name': 'Father of the Bride Col...         0   \n",
       "\n",
       "                                              genres  \\\n",
       "0  [{'id': 16, 'name': 'Animation'}, {'id': 35, '...   \n",
       "1  [{'id': 12, 'name': 'Adventure'}, {'id': 14, '...   \n",
       "2  [{'id': 10749, 'name': 'Romance'}, {'id': 35, ...   \n",
       "3  [{'id': 35, 'name': 'Comedy'}, {'id': 18, 'nam...   \n",
       "4                     [{'id': 35, 'name': 'Comedy'}]   \n",
       "\n",
       "                               homepage     id    imdb_id original_language  \\\n",
       "0  http://toystory.disney.com/toy-story    862  tt0114709                en   \n",
       "1                                   NaN   8844  tt0113497                en   \n",
       "2                                   NaN  15602  tt0113228                en   \n",
       "3                                   NaN  31357  tt0114885                en   \n",
       "4                                   NaN  11862  tt0113041                en   \n",
       "\n",
       "                original_title  \\\n",
       "0                    Toy Story   \n",
       "1                      Jumanji   \n",
       "2             Grumpier Old Men   \n",
       "3            Waiting to Exhale   \n",
       "4  Father of the Bride Part II   \n",
       "\n",
       "                                            overview  ... release_date  \\\n",
       "0  Led by Woody, Andy's toys live happily in his ...  ...   1995-10-30   \n",
       "1  When siblings Judy and Peter discover an encha...  ...   1995-12-15   \n",
       "2  A family wedding reignites the ancient feud be...  ...   1995-12-22   \n",
       "3  Cheated on, mistreated and stepped on, the wom...  ...   1995-12-22   \n",
       "4  Just when George Banks has recovered from his ...  ...   1995-02-10   \n",
       "\n",
       "       revenue runtime                                   spoken_languages  \\\n",
       "0  373554033.0    81.0           [{'iso_639_1': 'en', 'name': 'English'}]   \n",
       "1  262797249.0   104.0  [{'iso_639_1': 'en', 'name': 'English'}, {'iso...   \n",
       "2          0.0   101.0           [{'iso_639_1': 'en', 'name': 'English'}]   \n",
       "3   81452156.0   127.0           [{'iso_639_1': 'en', 'name': 'English'}]   \n",
       "4   76578911.0   106.0           [{'iso_639_1': 'en', 'name': 'English'}]   \n",
       "\n",
       "     status                                            tagline  \\\n",
       "0  Released                                                NaN   \n",
       "1  Released          Roll the dice and unleash the excitement!   \n",
       "2  Released  Still Yelling. Still Fighting. Still Ready for...   \n",
       "3  Released  Friends are the people who let you be yourself...   \n",
       "4  Released  Just When His World Is Back To Normal... He's ...   \n",
       "\n",
       "                         title  video vote_average vote_count  \n",
       "0                    Toy Story  False          7.7     5415.0  \n",
       "1                      Jumanji  False          6.9     2413.0  \n",
       "2             Grumpier Old Men  False          6.5       92.0  \n",
       "3            Waiting to Exhale  False          6.1       34.0  \n",
       "4  Father of the Bride Part II  False          5.7      173.0  \n",
       "\n",
       "[5 rows x 24 columns]"
      ]
     },
     "execution_count": 9,
     "metadata": {},
     "output_type": "execute_result"
    }
   ],
   "source": [
    "movies_df.head()"
   ]
  },
  {
   "cell_type": "code",
   "execution_count": 10,
   "id": "4e54222a",
   "metadata": {},
   "outputs": [
    {
     "data": {
      "text/plain": [
       "adult                        0\n",
       "belongs_to_collection    40972\n",
       "budget                       0\n",
       "genres                       0\n",
       "homepage                 37684\n",
       "id                           0\n",
       "imdb_id                     17\n",
       "original_language           11\n",
       "original_title               0\n",
       "overview                   954\n",
       "popularity                   5\n",
       "poster_path                386\n",
       "production_companies         3\n",
       "production_countries         3\n",
       "release_date                87\n",
       "revenue                      6\n",
       "runtime                    263\n",
       "spoken_languages             6\n",
       "status                      87\n",
       "tagline                  25054\n",
       "title                        6\n",
       "video                        6\n",
       "vote_average                 6\n",
       "vote_count                   6\n",
       "dtype: int64"
      ]
     },
     "execution_count": 10,
     "metadata": {},
     "output_type": "execute_result"
    }
   ],
   "source": [
    "movies_df.isnull().sum()"
   ]
  },
  {
   "cell_type": "code",
   "execution_count": 11,
   "id": "7fd9111c",
   "metadata": {},
   "outputs": [
    {
     "name": "stdout",
     "output_type": "stream",
     "text": [
      "adult\n",
      "False\n",
      "====================================================================================================\n",
      "belongs_to_collection\n",
      "nan\n",
      "====================================================================================================\n",
      "budget\n",
      "18000000\n",
      "====================================================================================================\n",
      "genres\n",
      "[{'id': 14, 'name': 'Fantasy'}, {'id': 878, 'name': 'Science Fiction'}, {'id': 12, 'name': 'Adventure'}]\n",
      "====================================================================================================\n",
      "homepage\n",
      "nan\n",
      "====================================================================================================\n",
      "id\n",
      "902\n",
      "====================================================================================================\n",
      "imdb_id\n",
      "tt0112682\n",
      "====================================================================================================\n",
      "original_language\n",
      "fr\n",
      "====================================================================================================\n",
      "original_title\n",
      "La Cité des Enfants Perdus\n",
      "====================================================================================================\n",
      "overview\n",
      "A scientist in a surrealist society kidnaps children to steal their dreams, hoping that they slow his aging process.\n",
      "====================================================================================================\n",
      "popularity\n",
      "9.822423\n",
      "====================================================================================================\n",
      "poster_path\n",
      "/eVo6ewq4akfyJYy3GXkMsLNzEJc.jpg\n",
      "====================================================================================================\n",
      "production_companies\n",
      "[{'name': 'Procirep', 'id': 311}, {'name': 'Constellation Productions', 'id': 590}, {'name': 'France 3 Cinéma', 'id': 591}, {'name': 'Claudie Ossard Productions', 'id': 592}, {'name': 'Eurimages', 'id': 850}, {'name': 'MEDIA Programme of the European Union', 'id': 851}, {'name': 'Cofimage 5', 'id': 1871}, {'name': 'Televisión Española (TVE)', 'id': 6639}, {'name': 'Tele München Fernseh Produktionsgesellschaft (TMG)', 'id': 7237}, {'name': \"Club d'Investissement Média\", 'id': 8170}, {'name': 'Canal+ España', 'id': 9335}, {'name': 'Elías Querejeta Producciones Cinematográficas S.L.', 'id': 12009}, {'name': 'Centre National de la Cinématographie (CNC)', 'id': 18367}, {'name': 'Victoires Productions', 'id': 25020}, {'name': 'Constellation', 'id': 25021}, {'name': 'Lumière Pictures', 'id': 25129}, {'name': 'Canal+', 'id': 47532}, {'name': 'Studio Image', 'id': 68517}, {'name': 'Cofimage 4', 'id': 79437}, {'name': 'Ossane', 'id': 79438}, {'name': 'Phoenix Images', 'id': 79439}]\n",
      "====================================================================================================\n",
      "production_countries\n",
      "[{'iso_3166_1': 'FR', 'name': 'France'}, {'iso_3166_1': 'DE', 'name': 'Germany'}, {'iso_3166_1': 'ES', 'name': 'Spain'}]\n",
      "====================================================================================================\n",
      "release_date\n",
      "1995-05-16\n",
      "====================================================================================================\n",
      "revenue\n",
      "1738611.0\n",
      "====================================================================================================\n",
      "runtime\n",
      "108.0\n",
      "====================================================================================================\n",
      "spoken_languages\n",
      "[{'iso_639_1': 'cn', 'name': '广州话 / 廣州話'}, {'iso_639_1': 'fr', 'name': 'Français'}]\n",
      "====================================================================================================\n",
      "status\n",
      "Released\n",
      "====================================================================================================\n",
      "tagline\n",
      "Where happily ever after is just a dream.\n",
      "====================================================================================================\n",
      "title\n",
      "The City of Lost Children\n",
      "====================================================================================================\n",
      "video\n",
      "False\n",
      "====================================================================================================\n",
      "vote_average\n",
      "7.6\n",
      "====================================================================================================\n",
      "vote_count\n",
      "308.0\n",
      "====================================================================================================\n"
     ]
    }
   ],
   "source": [
    "for i in movies_df.columns:\n",
    "    print(i, movies_df[i][28], '='*100, sep='\\n')"
   ]
  },
  {
   "cell_type": "code",
   "execution_count": 12,
   "id": "4bb5be8c",
   "metadata": {},
   "outputs": [
    {
     "data": {
      "text/plain": [
       "Index(['adult', 'belongs_to_collection', 'budget', 'genres', 'homepage', 'id',\n",
       "       'imdb_id', 'original_language', 'original_title', 'overview',\n",
       "       'popularity', 'poster_path', 'production_companies',\n",
       "       'production_countries', 'release_date', 'revenue', 'runtime',\n",
       "       'spoken_languages', 'status', 'tagline', 'title', 'video',\n",
       "       'vote_average', 'vote_count'],\n",
       "      dtype='object')"
      ]
     },
     "execution_count": 12,
     "metadata": {},
     "output_type": "execute_result"
    }
   ],
   "source": [
    "movies_df.columns"
   ]
  },
  {
   "cell_type": "markdown",
   "id": "81d2e540",
   "metadata": {},
   "source": [
    "## Observations:\n",
    "\n",
    "- From 'generes' column we need the 'name' out of each dict.\n",
    "- From 'production_companies' we will keep first 3 only\n",
    "- We will keep the following columns as they are going to play the key role in predictionfor this particular project \n",
    "['adult','genres', 'id', 'overview', 'production_companies', 'title']"
   ]
  },
  {
   "cell_type": "markdown",
   "id": "e88d41a7",
   "metadata": {},
   "source": [
    "# Pre-processing"
   ]
  },
  {
   "cell_type": "code",
   "execution_count": 13,
   "id": "4dbb0204",
   "metadata": {},
   "outputs": [],
   "source": [
    "# keeping only the necessary columns in movies_df\n",
    "movies_df = movies_df[['adult','genres', 'id', 'overview', 'production_companies', 'title']]"
   ]
  },
  {
   "cell_type": "markdown",
   "id": "2bc96c45",
   "metadata": {},
   "source": [
    "### Merge 3 dataframes on the 'id' column"
   ]
  },
  {
   "cell_type": "code",
   "execution_count": 14,
   "id": "14908525",
   "metadata": {},
   "outputs": [
    {
     "data": {
      "text/plain": [
       "(45466, 6)"
      ]
     },
     "execution_count": 14,
     "metadata": {},
     "output_type": "execute_result"
    }
   ],
   "source": [
    "movies_df.shape"
   ]
  },
  {
   "cell_type": "code",
   "execution_count": 15,
   "id": "f5f59f27",
   "metadata": {},
   "outputs": [
    {
     "data": {
      "text/plain": [
       "(45476, 3)"
      ]
     },
     "execution_count": 15,
     "metadata": {},
     "output_type": "execute_result"
    }
   ],
   "source": [
    "credits_df.shape"
   ]
  },
  {
   "cell_type": "code",
   "execution_count": 16,
   "id": "b3d4aa1f",
   "metadata": {},
   "outputs": [
    {
     "data": {
      "text/plain": [
       "(46419, 2)"
      ]
     },
     "execution_count": 16,
     "metadata": {},
     "output_type": "execute_result"
    }
   ],
   "source": [
    "keywords_df.shape"
   ]
  },
  {
   "cell_type": "code",
   "execution_count": 17,
   "id": "d539a675",
   "metadata": {},
   "outputs": [
    {
     "data": {
      "text/plain": [
       "Index(['adult', 'genres', 'id', 'overview', 'production_companies', 'title'], dtype='object')"
      ]
     },
     "execution_count": 17,
     "metadata": {},
     "output_type": "execute_result"
    }
   ],
   "source": [
    "movies_df.columns"
   ]
  },
  {
   "cell_type": "code",
   "execution_count": 18,
   "id": "fc13ef09",
   "metadata": {},
   "outputs": [
    {
     "data": {
      "text/plain": [
       "Index(['cast', 'crew', 'id'], dtype='object')"
      ]
     },
     "execution_count": 18,
     "metadata": {},
     "output_type": "execute_result"
    }
   ],
   "source": [
    "credits_df.columns"
   ]
  },
  {
   "cell_type": "code",
   "execution_count": 19,
   "id": "b4f6c793",
   "metadata": {},
   "outputs": [
    {
     "data": {
      "text/plain": [
       "Index(['id', 'keywords'], dtype='object')"
      ]
     },
     "execution_count": 19,
     "metadata": {},
     "output_type": "execute_result"
    }
   ],
   "source": [
    "keywords_df.columns"
   ]
  },
  {
   "cell_type": "code",
   "execution_count": 20,
   "id": "1043a8a0",
   "metadata": {},
   "outputs": [
    {
     "data": {
      "text/plain": [
       "cast    object\n",
       "crew    object\n",
       "id       int64\n",
       "dtype: object"
      ]
     },
     "execution_count": 20,
     "metadata": {},
     "output_type": "execute_result"
    }
   ],
   "source": [
    "credits_df.id = credits_df.id.astype('int')\n",
    "credits_df.dtypes"
   ]
  },
  {
   "cell_type": "code",
   "execution_count": 21,
   "id": "344c9d8c",
   "metadata": {},
   "outputs": [
    {
     "data": {
      "text/plain": [
       "id           int64\n",
       "keywords    object\n",
       "dtype: object"
      ]
     },
     "execution_count": 21,
     "metadata": {},
     "output_type": "execute_result"
    }
   ],
   "source": [
    "keywords_df.id = keywords_df.id.astype('int')\n",
    "keywords_df.dtypes"
   ]
  },
  {
   "cell_type": "code",
   "execution_count": 22,
   "id": "fa9f404e",
   "metadata": {},
   "outputs": [],
   "source": [
    "movies_df.reset_index(inplace=True)"
   ]
  },
  {
   "cell_type": "code",
   "execution_count": 23,
   "id": "e2e48363",
   "metadata": {},
   "outputs": [
    {
     "name": "stdout",
     "output_type": "stream",
     "text": [
      "19730 1997-08-20\n",
      "29503 2012-09-29\n",
      "35587 2014-01-01\n"
     ]
    }
   ],
   "source": [
    "l=[]\n",
    "for i in range(movies_df.shape[0]):\n",
    "    if '-' in movies_df['id'][i]:\n",
    "        print(i, movies_df['id'][i])\n",
    "        l.append(i)"
   ]
  },
  {
   "cell_type": "code",
   "execution_count": 24,
   "id": "936076ad",
   "metadata": {},
   "outputs": [],
   "source": [
    "movies_df.drop(l, inplace=True)#.reset_index(inplace=True)"
   ]
  },
  {
   "cell_type": "code",
   "execution_count": null,
   "id": "991fcf20",
   "metadata": {},
   "outputs": [],
   "source": []
  },
  {
   "cell_type": "code",
   "execution_count": 25,
   "id": "a5653e84",
   "metadata": {},
   "outputs": [
    {
     "data": {
      "text/plain": [
       "index                    int64\n",
       "adult                   object\n",
       "genres                  object\n",
       "id                       int64\n",
       "overview                object\n",
       "production_companies    object\n",
       "title                   object\n",
       "dtype: object"
      ]
     },
     "execution_count": 25,
     "metadata": {},
     "output_type": "execute_result"
    }
   ],
   "source": [
    "movies_df.id = movies_df.id.astype('int')\n",
    "movies_df.dtypes"
   ]
  },
  {
   "cell_type": "code",
   "execution_count": 26,
   "id": "2c75b0b1",
   "metadata": {},
   "outputs": [
    {
     "data": {
      "text/html": [
       "<div>\n",
       "<style scoped>\n",
       "    .dataframe tbody tr th:only-of-type {\n",
       "        vertical-align: middle;\n",
       "    }\n",
       "\n",
       "    .dataframe tbody tr th {\n",
       "        vertical-align: top;\n",
       "    }\n",
       "\n",
       "    .dataframe thead th {\n",
       "        text-align: right;\n",
       "    }\n",
       "</style>\n",
       "<table border=\"1\" class=\"dataframe\">\n",
       "  <thead>\n",
       "    <tr style=\"text-align: right;\">\n",
       "      <th></th>\n",
       "      <th>index</th>\n",
       "      <th>adult</th>\n",
       "      <th>genres</th>\n",
       "      <th>id</th>\n",
       "      <th>overview</th>\n",
       "      <th>production_companies</th>\n",
       "      <th>title</th>\n",
       "    </tr>\n",
       "  </thead>\n",
       "  <tbody>\n",
       "    <tr>\n",
       "      <th>0</th>\n",
       "      <td>0</td>\n",
       "      <td>False</td>\n",
       "      <td>[{'id': 16, 'name': 'Animation'}, {'id': 35, '...</td>\n",
       "      <td>862</td>\n",
       "      <td>Led by Woody, Andy's toys live happily in his ...</td>\n",
       "      <td>[{'name': 'Pixar Animation Studios', 'id': 3}]</td>\n",
       "      <td>Toy Story</td>\n",
       "    </tr>\n",
       "    <tr>\n",
       "      <th>1</th>\n",
       "      <td>1</td>\n",
       "      <td>False</td>\n",
       "      <td>[{'id': 12, 'name': 'Adventure'}, {'id': 14, '...</td>\n",
       "      <td>8844</td>\n",
       "      <td>When siblings Judy and Peter discover an encha...</td>\n",
       "      <td>[{'name': 'TriStar Pictures', 'id': 559}, {'na...</td>\n",
       "      <td>Jumanji</td>\n",
       "    </tr>\n",
       "    <tr>\n",
       "      <th>2</th>\n",
       "      <td>2</td>\n",
       "      <td>False</td>\n",
       "      <td>[{'id': 10749, 'name': 'Romance'}, {'id': 35, ...</td>\n",
       "      <td>15602</td>\n",
       "      <td>A family wedding reignites the ancient feud be...</td>\n",
       "      <td>[{'name': 'Warner Bros.', 'id': 6194}, {'name'...</td>\n",
       "      <td>Grumpier Old Men</td>\n",
       "    </tr>\n",
       "  </tbody>\n",
       "</table>\n",
       "</div>"
      ],
      "text/plain": [
       "   index  adult                                             genres     id  \\\n",
       "0      0  False  [{'id': 16, 'name': 'Animation'}, {'id': 35, '...    862   \n",
       "1      1  False  [{'id': 12, 'name': 'Adventure'}, {'id': 14, '...   8844   \n",
       "2      2  False  [{'id': 10749, 'name': 'Romance'}, {'id': 35, ...  15602   \n",
       "\n",
       "                                            overview  \\\n",
       "0  Led by Woody, Andy's toys live happily in his ...   \n",
       "1  When siblings Judy and Peter discover an encha...   \n",
       "2  A family wedding reignites the ancient feud be...   \n",
       "\n",
       "                                production_companies             title  \n",
       "0     [{'name': 'Pixar Animation Studios', 'id': 3}]         Toy Story  \n",
       "1  [{'name': 'TriStar Pictures', 'id': 559}, {'na...           Jumanji  \n",
       "2  [{'name': 'Warner Bros.', 'id': 6194}, {'name'...  Grumpier Old Men  "
      ]
     },
     "execution_count": 26,
     "metadata": {},
     "output_type": "execute_result"
    }
   ],
   "source": [
    "movies_df.head(3)"
   ]
  },
  {
   "cell_type": "code",
   "execution_count": 27,
   "id": "5b4eb0a5",
   "metadata": {},
   "outputs": [
    {
     "data": {
      "text/html": [
       "<div>\n",
       "<style scoped>\n",
       "    .dataframe tbody tr th:only-of-type {\n",
       "        vertical-align: middle;\n",
       "    }\n",
       "\n",
       "    .dataframe tbody tr th {\n",
       "        vertical-align: top;\n",
       "    }\n",
       "\n",
       "    .dataframe thead th {\n",
       "        text-align: right;\n",
       "    }\n",
       "</style>\n",
       "<table border=\"1\" class=\"dataframe\">\n",
       "  <thead>\n",
       "    <tr style=\"text-align: right;\">\n",
       "      <th></th>\n",
       "      <th>cast</th>\n",
       "      <th>crew</th>\n",
       "      <th>id</th>\n",
       "    </tr>\n",
       "  </thead>\n",
       "  <tbody>\n",
       "    <tr>\n",
       "      <th>0</th>\n",
       "      <td>[{'cast_id': 14, 'character': 'Woody (voice)',...</td>\n",
       "      <td>[{'credit_id': '52fe4284c3a36847f8024f49', 'de...</td>\n",
       "      <td>862</td>\n",
       "    </tr>\n",
       "    <tr>\n",
       "      <th>1</th>\n",
       "      <td>[{'cast_id': 1, 'character': 'Alan Parrish', '...</td>\n",
       "      <td>[{'credit_id': '52fe44bfc3a36847f80a7cd1', 'de...</td>\n",
       "      <td>8844</td>\n",
       "    </tr>\n",
       "    <tr>\n",
       "      <th>2</th>\n",
       "      <td>[{'cast_id': 2, 'character': 'Max Goldman', 'c...</td>\n",
       "      <td>[{'credit_id': '52fe466a9251416c75077a89', 'de...</td>\n",
       "      <td>15602</td>\n",
       "    </tr>\n",
       "  </tbody>\n",
       "</table>\n",
       "</div>"
      ],
      "text/plain": [
       "                                                cast  \\\n",
       "0  [{'cast_id': 14, 'character': 'Woody (voice)',...   \n",
       "1  [{'cast_id': 1, 'character': 'Alan Parrish', '...   \n",
       "2  [{'cast_id': 2, 'character': 'Max Goldman', 'c...   \n",
       "\n",
       "                                                crew     id  \n",
       "0  [{'credit_id': '52fe4284c3a36847f8024f49', 'de...    862  \n",
       "1  [{'credit_id': '52fe44bfc3a36847f80a7cd1', 'de...   8844  \n",
       "2  [{'credit_id': '52fe466a9251416c75077a89', 'de...  15602  "
      ]
     },
     "execution_count": 27,
     "metadata": {},
     "output_type": "execute_result"
    }
   ],
   "source": [
    "credits_df.head(3)"
   ]
  },
  {
   "cell_type": "code",
   "execution_count": 28,
   "id": "ecfc9b12",
   "metadata": {},
   "outputs": [
    {
     "data": {
      "text/html": [
       "<div>\n",
       "<style scoped>\n",
       "    .dataframe tbody tr th:only-of-type {\n",
       "        vertical-align: middle;\n",
       "    }\n",
       "\n",
       "    .dataframe tbody tr th {\n",
       "        vertical-align: top;\n",
       "    }\n",
       "\n",
       "    .dataframe thead th {\n",
       "        text-align: right;\n",
       "    }\n",
       "</style>\n",
       "<table border=\"1\" class=\"dataframe\">\n",
       "  <thead>\n",
       "    <tr style=\"text-align: right;\">\n",
       "      <th></th>\n",
       "      <th>id</th>\n",
       "      <th>keywords</th>\n",
       "    </tr>\n",
       "  </thead>\n",
       "  <tbody>\n",
       "    <tr>\n",
       "      <th>0</th>\n",
       "      <td>862</td>\n",
       "      <td>[{'id': 931, 'name': 'jealousy'}, {'id': 4290,...</td>\n",
       "    </tr>\n",
       "    <tr>\n",
       "      <th>1</th>\n",
       "      <td>8844</td>\n",
       "      <td>[{'id': 10090, 'name': 'board game'}, {'id': 1...</td>\n",
       "    </tr>\n",
       "    <tr>\n",
       "      <th>2</th>\n",
       "      <td>15602</td>\n",
       "      <td>[{'id': 1495, 'name': 'fishing'}, {'id': 12392...</td>\n",
       "    </tr>\n",
       "  </tbody>\n",
       "</table>\n",
       "</div>"
      ],
      "text/plain": [
       "      id                                           keywords\n",
       "0    862  [{'id': 931, 'name': 'jealousy'}, {'id': 4290,...\n",
       "1   8844  [{'id': 10090, 'name': 'board game'}, {'id': 1...\n",
       "2  15602  [{'id': 1495, 'name': 'fishing'}, {'id': 12392..."
      ]
     },
     "execution_count": 28,
     "metadata": {},
     "output_type": "execute_result"
    }
   ],
   "source": [
    "keywords_df.head(3)"
   ]
  },
  {
   "cell_type": "code",
   "execution_count": 29,
   "id": "85fa3bb3",
   "metadata": {},
   "outputs": [],
   "source": [
    "df = pd.merge(pd.merge(movies_df, credits_df, on=\"id\"), keywords_df, on=\"id\")"
   ]
  },
  {
   "cell_type": "code",
   "execution_count": 30,
   "id": "ee222ae4",
   "metadata": {},
   "outputs": [],
   "source": [
    "df.drop(columns=['index'], inplace=True)"
   ]
  },
  {
   "cell_type": "code",
   "execution_count": 31,
   "id": "d4b3e72a",
   "metadata": {},
   "outputs": [
    {
     "data": {
      "text/plain": [
       "(46628, 9)"
      ]
     },
     "execution_count": 31,
     "metadata": {},
     "output_type": "execute_result"
    }
   ],
   "source": [
    "df.shape"
   ]
  },
  {
   "cell_type": "code",
   "execution_count": 32,
   "id": "63293240",
   "metadata": {},
   "outputs": [
    {
     "data": {
      "text/html": [
       "<div>\n",
       "<style scoped>\n",
       "    .dataframe tbody tr th:only-of-type {\n",
       "        vertical-align: middle;\n",
       "    }\n",
       "\n",
       "    .dataframe tbody tr th {\n",
       "        vertical-align: top;\n",
       "    }\n",
       "\n",
       "    .dataframe thead th {\n",
       "        text-align: right;\n",
       "    }\n",
       "</style>\n",
       "<table border=\"1\" class=\"dataframe\">\n",
       "  <thead>\n",
       "    <tr style=\"text-align: right;\">\n",
       "      <th></th>\n",
       "      <th>adult</th>\n",
       "      <th>genres</th>\n",
       "      <th>id</th>\n",
       "      <th>overview</th>\n",
       "      <th>production_companies</th>\n",
       "      <th>title</th>\n",
       "      <th>cast</th>\n",
       "      <th>crew</th>\n",
       "      <th>keywords</th>\n",
       "    </tr>\n",
       "  </thead>\n",
       "  <tbody>\n",
       "    <tr>\n",
       "      <th>0</th>\n",
       "      <td>False</td>\n",
       "      <td>[{'id': 16, 'name': 'Animation'}, {'id': 35, '...</td>\n",
       "      <td>862</td>\n",
       "      <td>Led by Woody, Andy's toys live happily in his ...</td>\n",
       "      <td>[{'name': 'Pixar Animation Studios', 'id': 3}]</td>\n",
       "      <td>Toy Story</td>\n",
       "      <td>[{'cast_id': 14, 'character': 'Woody (voice)',...</td>\n",
       "      <td>[{'credit_id': '52fe4284c3a36847f8024f49', 'de...</td>\n",
       "      <td>[{'id': 931, 'name': 'jealousy'}, {'id': 4290,...</td>\n",
       "    </tr>\n",
       "    <tr>\n",
       "      <th>1</th>\n",
       "      <td>False</td>\n",
       "      <td>[{'id': 12, 'name': 'Adventure'}, {'id': 14, '...</td>\n",
       "      <td>8844</td>\n",
       "      <td>When siblings Judy and Peter discover an encha...</td>\n",
       "      <td>[{'name': 'TriStar Pictures', 'id': 559}, {'na...</td>\n",
       "      <td>Jumanji</td>\n",
       "      <td>[{'cast_id': 1, 'character': 'Alan Parrish', '...</td>\n",
       "      <td>[{'credit_id': '52fe44bfc3a36847f80a7cd1', 'de...</td>\n",
       "      <td>[{'id': 10090, 'name': 'board game'}, {'id': 1...</td>\n",
       "    </tr>\n",
       "    <tr>\n",
       "      <th>2</th>\n",
       "      <td>False</td>\n",
       "      <td>[{'id': 10749, 'name': 'Romance'}, {'id': 35, ...</td>\n",
       "      <td>15602</td>\n",
       "      <td>A family wedding reignites the ancient feud be...</td>\n",
       "      <td>[{'name': 'Warner Bros.', 'id': 6194}, {'name'...</td>\n",
       "      <td>Grumpier Old Men</td>\n",
       "      <td>[{'cast_id': 2, 'character': 'Max Goldman', 'c...</td>\n",
       "      <td>[{'credit_id': '52fe466a9251416c75077a89', 'de...</td>\n",
       "      <td>[{'id': 1495, 'name': 'fishing'}, {'id': 12392...</td>\n",
       "    </tr>\n",
       "    <tr>\n",
       "      <th>3</th>\n",
       "      <td>False</td>\n",
       "      <td>[{'id': 35, 'name': 'Comedy'}, {'id': 18, 'nam...</td>\n",
       "      <td>31357</td>\n",
       "      <td>Cheated on, mistreated and stepped on, the wom...</td>\n",
       "      <td>[{'name': 'Twentieth Century Fox Film Corporat...</td>\n",
       "      <td>Waiting to Exhale</td>\n",
       "      <td>[{'cast_id': 1, 'character': \"Savannah 'Vannah...</td>\n",
       "      <td>[{'credit_id': '52fe44779251416c91011acb', 'de...</td>\n",
       "      <td>[{'id': 818, 'name': 'based on novel'}, {'id':...</td>\n",
       "    </tr>\n",
       "    <tr>\n",
       "      <th>4</th>\n",
       "      <td>False</td>\n",
       "      <td>[{'id': 35, 'name': 'Comedy'}]</td>\n",
       "      <td>11862</td>\n",
       "      <td>Just when George Banks has recovered from his ...</td>\n",
       "      <td>[{'name': 'Sandollar Productions', 'id': 5842}...</td>\n",
       "      <td>Father of the Bride Part II</td>\n",
       "      <td>[{'cast_id': 1, 'character': 'George Banks', '...</td>\n",
       "      <td>[{'credit_id': '52fe44959251416c75039ed7', 'de...</td>\n",
       "      <td>[{'id': 1009, 'name': 'baby'}, {'id': 1599, 'n...</td>\n",
       "    </tr>\n",
       "  </tbody>\n",
       "</table>\n",
       "</div>"
      ],
      "text/plain": [
       "   adult                                             genres     id  \\\n",
       "0  False  [{'id': 16, 'name': 'Animation'}, {'id': 35, '...    862   \n",
       "1  False  [{'id': 12, 'name': 'Adventure'}, {'id': 14, '...   8844   \n",
       "2  False  [{'id': 10749, 'name': 'Romance'}, {'id': 35, ...  15602   \n",
       "3  False  [{'id': 35, 'name': 'Comedy'}, {'id': 18, 'nam...  31357   \n",
       "4  False                     [{'id': 35, 'name': 'Comedy'}]  11862   \n",
       "\n",
       "                                            overview  \\\n",
       "0  Led by Woody, Andy's toys live happily in his ...   \n",
       "1  When siblings Judy and Peter discover an encha...   \n",
       "2  A family wedding reignites the ancient feud be...   \n",
       "3  Cheated on, mistreated and stepped on, the wom...   \n",
       "4  Just when George Banks has recovered from his ...   \n",
       "\n",
       "                                production_companies  \\\n",
       "0     [{'name': 'Pixar Animation Studios', 'id': 3}]   \n",
       "1  [{'name': 'TriStar Pictures', 'id': 559}, {'na...   \n",
       "2  [{'name': 'Warner Bros.', 'id': 6194}, {'name'...   \n",
       "3  [{'name': 'Twentieth Century Fox Film Corporat...   \n",
       "4  [{'name': 'Sandollar Productions', 'id': 5842}...   \n",
       "\n",
       "                         title  \\\n",
       "0                    Toy Story   \n",
       "1                      Jumanji   \n",
       "2             Grumpier Old Men   \n",
       "3            Waiting to Exhale   \n",
       "4  Father of the Bride Part II   \n",
       "\n",
       "                                                cast  \\\n",
       "0  [{'cast_id': 14, 'character': 'Woody (voice)',...   \n",
       "1  [{'cast_id': 1, 'character': 'Alan Parrish', '...   \n",
       "2  [{'cast_id': 2, 'character': 'Max Goldman', 'c...   \n",
       "3  [{'cast_id': 1, 'character': \"Savannah 'Vannah...   \n",
       "4  [{'cast_id': 1, 'character': 'George Banks', '...   \n",
       "\n",
       "                                                crew  \\\n",
       "0  [{'credit_id': '52fe4284c3a36847f8024f49', 'de...   \n",
       "1  [{'credit_id': '52fe44bfc3a36847f80a7cd1', 'de...   \n",
       "2  [{'credit_id': '52fe466a9251416c75077a89', 'de...   \n",
       "3  [{'credit_id': '52fe44779251416c91011acb', 'de...   \n",
       "4  [{'credit_id': '52fe44959251416c75039ed7', 'de...   \n",
       "\n",
       "                                            keywords  \n",
       "0  [{'id': 931, 'name': 'jealousy'}, {'id': 4290,...  \n",
       "1  [{'id': 10090, 'name': 'board game'}, {'id': 1...  \n",
       "2  [{'id': 1495, 'name': 'fishing'}, {'id': 12392...  \n",
       "3  [{'id': 818, 'name': 'based on novel'}, {'id':...  \n",
       "4  [{'id': 1009, 'name': 'baby'}, {'id': 1599, 'n...  "
      ]
     },
     "execution_count": 32,
     "metadata": {},
     "output_type": "execute_result"
    }
   ],
   "source": [
    "df.head()"
   ]
  },
  {
   "cell_type": "markdown",
   "id": "9811fd41",
   "metadata": {},
   "source": [
    "## Drop rows witth null values"
   ]
  },
  {
   "cell_type": "code",
   "execution_count": 33,
   "id": "18094d05",
   "metadata": {},
   "outputs": [
    {
     "data": {
      "text/plain": [
       "adult                     0\n",
       "genres                    0\n",
       "id                        0\n",
       "overview                995\n",
       "production_companies      4\n",
       "title                     4\n",
       "cast                      0\n",
       "crew                      0\n",
       "keywords                  0\n",
       "dtype: int64"
      ]
     },
     "execution_count": 33,
     "metadata": {},
     "output_type": "execute_result"
    }
   ],
   "source": [
    "df.isnull().sum()"
   ]
  },
  {
   "cell_type": "code",
   "execution_count": 34,
   "id": "98812bc3",
   "metadata": {},
   "outputs": [
    {
     "data": {
      "text/plain": [
       "adult                     0\n",
       "genres                    0\n",
       "id                        0\n",
       "overview                995\n",
       "production_companies      4\n",
       "title                     4\n",
       "cast                      0\n",
       "crew                      0\n",
       "keywords                  0\n",
       "dtype: int64"
      ]
     },
     "execution_count": 34,
     "metadata": {},
     "output_type": "execute_result"
    }
   ],
   "source": [
    "df.isna().sum()"
   ]
  },
  {
   "cell_type": "code",
   "execution_count": 35,
   "id": "a51b3486",
   "metadata": {},
   "outputs": [],
   "source": [
    "df.dropna(inplace=True)"
   ]
  },
  {
   "cell_type": "code",
   "execution_count": 36,
   "id": "602d7e09",
   "metadata": {},
   "outputs": [
    {
     "data": {
      "text/plain": [
       "adult                   0\n",
       "genres                  0\n",
       "id                      0\n",
       "overview                0\n",
       "production_companies    0\n",
       "title                   0\n",
       "cast                    0\n",
       "crew                    0\n",
       "keywords                0\n",
       "dtype: int64"
      ]
     },
     "execution_count": 36,
     "metadata": {},
     "output_type": "execute_result"
    }
   ],
   "source": [
    "df.isna().sum()"
   ]
  },
  {
   "cell_type": "markdown",
   "id": "f68ac59f",
   "metadata": {},
   "source": [
    "### moddify generes\n",
    "### from each dict we need to get the names and form a list"
   ]
  },
  {
   "cell_type": "code",
   "execution_count": 37,
   "id": "aa297ddc",
   "metadata": {},
   "outputs": [
    {
     "data": {
      "text/plain": [
       "[{'id': 10751, 'name': 'Family'},\n",
       " {'id': 16, 'name': 'Animation'},\n",
       " {'id': 12, 'name': 'Adventure'}]"
      ]
     },
     "execution_count": 37,
     "metadata": {},
     "output_type": "execute_result"
    }
   ],
   "source": [
    "ast.literal_eval(df.genres[12])"
   ]
  },
  {
   "cell_type": "code",
   "execution_count": 38,
   "id": "54e54b3c",
   "metadata": {},
   "outputs": [],
   "source": [
    "def convert1(obj):\n",
    "    L=[]\n",
    "    for i in ast.literal_eval(obj):\n",
    "        x = i['name'].lower().replace(\" \", \"\")\n",
    "        L.append(x)\n",
    "    return L"
   ]
  },
  {
   "cell_type": "code",
   "execution_count": 39,
   "id": "aa710c77",
   "metadata": {},
   "outputs": [],
   "source": [
    "df['genres'] = df['genres'].apply(convert1)"
   ]
  },
  {
   "cell_type": "code",
   "execution_count": 40,
   "id": "0367fd4a",
   "metadata": {},
   "outputs": [
    {
     "data": {
      "text/html": [
       "<div>\n",
       "<style scoped>\n",
       "    .dataframe tbody tr th:only-of-type {\n",
       "        vertical-align: middle;\n",
       "    }\n",
       "\n",
       "    .dataframe tbody tr th {\n",
       "        vertical-align: top;\n",
       "    }\n",
       "\n",
       "    .dataframe thead th {\n",
       "        text-align: right;\n",
       "    }\n",
       "</style>\n",
       "<table border=\"1\" class=\"dataframe\">\n",
       "  <thead>\n",
       "    <tr style=\"text-align: right;\">\n",
       "      <th></th>\n",
       "      <th>adult</th>\n",
       "      <th>genres</th>\n",
       "      <th>id</th>\n",
       "      <th>overview</th>\n",
       "      <th>production_companies</th>\n",
       "      <th>title</th>\n",
       "      <th>cast</th>\n",
       "      <th>crew</th>\n",
       "      <th>keywords</th>\n",
       "    </tr>\n",
       "  </thead>\n",
       "  <tbody>\n",
       "    <tr>\n",
       "      <th>0</th>\n",
       "      <td>False</td>\n",
       "      <td>[animation, comedy, family]</td>\n",
       "      <td>862</td>\n",
       "      <td>Led by Woody, Andy's toys live happily in his ...</td>\n",
       "      <td>[{'name': 'Pixar Animation Studios', 'id': 3}]</td>\n",
       "      <td>Toy Story</td>\n",
       "      <td>[{'cast_id': 14, 'character': 'Woody (voice)',...</td>\n",
       "      <td>[{'credit_id': '52fe4284c3a36847f8024f49', 'de...</td>\n",
       "      <td>[{'id': 931, 'name': 'jealousy'}, {'id': 4290,...</td>\n",
       "    </tr>\n",
       "    <tr>\n",
       "      <th>1</th>\n",
       "      <td>False</td>\n",
       "      <td>[adventure, fantasy, family]</td>\n",
       "      <td>8844</td>\n",
       "      <td>When siblings Judy and Peter discover an encha...</td>\n",
       "      <td>[{'name': 'TriStar Pictures', 'id': 559}, {'na...</td>\n",
       "      <td>Jumanji</td>\n",
       "      <td>[{'cast_id': 1, 'character': 'Alan Parrish', '...</td>\n",
       "      <td>[{'credit_id': '52fe44bfc3a36847f80a7cd1', 'de...</td>\n",
       "      <td>[{'id': 10090, 'name': 'board game'}, {'id': 1...</td>\n",
       "    </tr>\n",
       "    <tr>\n",
       "      <th>2</th>\n",
       "      <td>False</td>\n",
       "      <td>[romance, comedy]</td>\n",
       "      <td>15602</td>\n",
       "      <td>A family wedding reignites the ancient feud be...</td>\n",
       "      <td>[{'name': 'Warner Bros.', 'id': 6194}, {'name'...</td>\n",
       "      <td>Grumpier Old Men</td>\n",
       "      <td>[{'cast_id': 2, 'character': 'Max Goldman', 'c...</td>\n",
       "      <td>[{'credit_id': '52fe466a9251416c75077a89', 'de...</td>\n",
       "      <td>[{'id': 1495, 'name': 'fishing'}, {'id': 12392...</td>\n",
       "    </tr>\n",
       "  </tbody>\n",
       "</table>\n",
       "</div>"
      ],
      "text/plain": [
       "   adult                        genres     id  \\\n",
       "0  False   [animation, comedy, family]    862   \n",
       "1  False  [adventure, fantasy, family]   8844   \n",
       "2  False             [romance, comedy]  15602   \n",
       "\n",
       "                                            overview  \\\n",
       "0  Led by Woody, Andy's toys live happily in his ...   \n",
       "1  When siblings Judy and Peter discover an encha...   \n",
       "2  A family wedding reignites the ancient feud be...   \n",
       "\n",
       "                                production_companies             title  \\\n",
       "0     [{'name': 'Pixar Animation Studios', 'id': 3}]         Toy Story   \n",
       "1  [{'name': 'TriStar Pictures', 'id': 559}, {'na...           Jumanji   \n",
       "2  [{'name': 'Warner Bros.', 'id': 6194}, {'name'...  Grumpier Old Men   \n",
       "\n",
       "                                                cast  \\\n",
       "0  [{'cast_id': 14, 'character': 'Woody (voice)',...   \n",
       "1  [{'cast_id': 1, 'character': 'Alan Parrish', '...   \n",
       "2  [{'cast_id': 2, 'character': 'Max Goldman', 'c...   \n",
       "\n",
       "                                                crew  \\\n",
       "0  [{'credit_id': '52fe4284c3a36847f8024f49', 'de...   \n",
       "1  [{'credit_id': '52fe44bfc3a36847f80a7cd1', 'de...   \n",
       "2  [{'credit_id': '52fe466a9251416c75077a89', 'de...   \n",
       "\n",
       "                                            keywords  \n",
       "0  [{'id': 931, 'name': 'jealousy'}, {'id': 4290,...  \n",
       "1  [{'id': 10090, 'name': 'board game'}, {'id': 1...  \n",
       "2  [{'id': 1495, 'name': 'fishing'}, {'id': 12392...  "
      ]
     },
     "execution_count": 40,
     "metadata": {},
     "output_type": "execute_result"
    }
   ],
   "source": [
    "df.head(3)"
   ]
  },
  {
   "cell_type": "markdown",
   "id": "70fab245",
   "metadata": {},
   "source": [
    "### modify production_companies "
   ]
  },
  {
   "cell_type": "code",
   "execution_count": 41,
   "id": "d3e8cfd5",
   "metadata": {},
   "outputs": [
    {
     "data": {
      "text/plain": [
       "[{'name': 'Columbia Pictures', 'id': 5},\n",
       " {'name': 'Castle Rock Entertainment', 'id': 97}]"
      ]
     },
     "execution_count": 41,
     "metadata": {},
     "output_type": "execute_result"
    }
   ],
   "source": [
    "ast.literal_eval(df.production_companies[10])"
   ]
  },
  {
   "cell_type": "code",
   "execution_count": 42,
   "id": "476dbd5a",
   "metadata": {},
   "outputs": [],
   "source": [
    "df['production_companies'] = df['production_companies'].apply(convert1)"
   ]
  },
  {
   "cell_type": "code",
   "execution_count": 43,
   "id": "46aa79e0",
   "metadata": {},
   "outputs": [
    {
     "data": {
      "text/html": [
       "<div>\n",
       "<style scoped>\n",
       "    .dataframe tbody tr th:only-of-type {\n",
       "        vertical-align: middle;\n",
       "    }\n",
       "\n",
       "    .dataframe tbody tr th {\n",
       "        vertical-align: top;\n",
       "    }\n",
       "\n",
       "    .dataframe thead th {\n",
       "        text-align: right;\n",
       "    }\n",
       "</style>\n",
       "<table border=\"1\" class=\"dataframe\">\n",
       "  <thead>\n",
       "    <tr style=\"text-align: right;\">\n",
       "      <th></th>\n",
       "      <th>adult</th>\n",
       "      <th>genres</th>\n",
       "      <th>id</th>\n",
       "      <th>overview</th>\n",
       "      <th>production_companies</th>\n",
       "      <th>title</th>\n",
       "      <th>cast</th>\n",
       "      <th>crew</th>\n",
       "      <th>keywords</th>\n",
       "    </tr>\n",
       "  </thead>\n",
       "  <tbody>\n",
       "    <tr>\n",
       "      <th>0</th>\n",
       "      <td>False</td>\n",
       "      <td>[animation, comedy, family]</td>\n",
       "      <td>862</td>\n",
       "      <td>Led by Woody, Andy's toys live happily in his ...</td>\n",
       "      <td>[pixaranimationstudios]</td>\n",
       "      <td>Toy Story</td>\n",
       "      <td>[{'cast_id': 14, 'character': 'Woody (voice)',...</td>\n",
       "      <td>[{'credit_id': '52fe4284c3a36847f8024f49', 'de...</td>\n",
       "      <td>[{'id': 931, 'name': 'jealousy'}, {'id': 4290,...</td>\n",
       "    </tr>\n",
       "    <tr>\n",
       "      <th>1</th>\n",
       "      <td>False</td>\n",
       "      <td>[adventure, fantasy, family]</td>\n",
       "      <td>8844</td>\n",
       "      <td>When siblings Judy and Peter discover an encha...</td>\n",
       "      <td>[tristarpictures, teitlerfilm, interscopecommu...</td>\n",
       "      <td>Jumanji</td>\n",
       "      <td>[{'cast_id': 1, 'character': 'Alan Parrish', '...</td>\n",
       "      <td>[{'credit_id': '52fe44bfc3a36847f80a7cd1', 'de...</td>\n",
       "      <td>[{'id': 10090, 'name': 'board game'}, {'id': 1...</td>\n",
       "    </tr>\n",
       "    <tr>\n",
       "      <th>2</th>\n",
       "      <td>False</td>\n",
       "      <td>[romance, comedy]</td>\n",
       "      <td>15602</td>\n",
       "      <td>A family wedding reignites the ancient feud be...</td>\n",
       "      <td>[warnerbros., lancastergate]</td>\n",
       "      <td>Grumpier Old Men</td>\n",
       "      <td>[{'cast_id': 2, 'character': 'Max Goldman', 'c...</td>\n",
       "      <td>[{'credit_id': '52fe466a9251416c75077a89', 'de...</td>\n",
       "      <td>[{'id': 1495, 'name': 'fishing'}, {'id': 12392...</td>\n",
       "    </tr>\n",
       "  </tbody>\n",
       "</table>\n",
       "</div>"
      ],
      "text/plain": [
       "   adult                        genres     id  \\\n",
       "0  False   [animation, comedy, family]    862   \n",
       "1  False  [adventure, fantasy, family]   8844   \n",
       "2  False             [romance, comedy]  15602   \n",
       "\n",
       "                                            overview  \\\n",
       "0  Led by Woody, Andy's toys live happily in his ...   \n",
       "1  When siblings Judy and Peter discover an encha...   \n",
       "2  A family wedding reignites the ancient feud be...   \n",
       "\n",
       "                                production_companies             title  \\\n",
       "0                            [pixaranimationstudios]         Toy Story   \n",
       "1  [tristarpictures, teitlerfilm, interscopecommu...           Jumanji   \n",
       "2                       [warnerbros., lancastergate]  Grumpier Old Men   \n",
       "\n",
       "                                                cast  \\\n",
       "0  [{'cast_id': 14, 'character': 'Woody (voice)',...   \n",
       "1  [{'cast_id': 1, 'character': 'Alan Parrish', '...   \n",
       "2  [{'cast_id': 2, 'character': 'Max Goldman', 'c...   \n",
       "\n",
       "                                                crew  \\\n",
       "0  [{'credit_id': '52fe4284c3a36847f8024f49', 'de...   \n",
       "1  [{'credit_id': '52fe44bfc3a36847f80a7cd1', 'de...   \n",
       "2  [{'credit_id': '52fe466a9251416c75077a89', 'de...   \n",
       "\n",
       "                                            keywords  \n",
       "0  [{'id': 931, 'name': 'jealousy'}, {'id': 4290,...  \n",
       "1  [{'id': 10090, 'name': 'board game'}, {'id': 1...  \n",
       "2  [{'id': 1495, 'name': 'fishing'}, {'id': 12392...  "
      ]
     },
     "execution_count": 43,
     "metadata": {},
     "output_type": "execute_result"
    }
   ],
   "source": [
    "df.head(3)"
   ]
  },
  {
   "cell_type": "markdown",
   "id": "4c1f68f1",
   "metadata": {},
   "source": [
    "### cast column modification "
   ]
  },
  {
   "cell_type": "code",
   "execution_count": 44,
   "id": "b2f9da19",
   "metadata": {},
   "outputs": [
    {
     "data": {
      "text/plain": [
       "[{'cast_id': 1,\n",
       "  'character': 'Andrew Shepherd',\n",
       "  'credit_id': '52fe44dac3a36847f80adf79',\n",
       "  'gender': 2,\n",
       "  'id': 3392,\n",
       "  'name': 'Michael Douglas',\n",
       "  'order': 0,\n",
       "  'profile_path': '/nmlitv4g2jXO3sJrnA9g980j2uc.jpg'},\n",
       " {'cast_id': 2,\n",
       "  'character': 'Sydney Ellen Wade',\n",
       "  'credit_id': '52fe44dac3a36847f80adf7d',\n",
       "  'gender': 1,\n",
       "  'id': 516,\n",
       "  'name': 'Annette Bening',\n",
       "  'order': 1,\n",
       "  'profile_path': '/q8pCSQzGLrhgtVXBKzMnwfoeBlH.jpg'},\n",
       " {'cast_id': 3,\n",
       "  'character': 'Lewis Rothschild',\n",
       "  'credit_id': '52fe44dac3a36847f80adf81',\n",
       "  'gender': 2,\n",
       "  'id': 521,\n",
       "  'name': 'Michael J. Fox',\n",
       "  'order': 2,\n",
       "  'profile_path': '/aeN1cA04vVXKrVy1SuS1JOhABBs.jpg'},\n",
       " {'cast_id': 4,\n",
       "  'character': 'A.J. MacInerney',\n",
       "  'credit_id': '52fe44dac3a36847f80adf85',\n",
       "  'gender': 2,\n",
       "  'id': 8349,\n",
       "  'name': 'Martin Sheen',\n",
       "  'order': 3,\n",
       "  'profile_path': '/ve77Q75moQhoB6cxdMfigfrHeTA.jpg'},\n",
       " {'cast_id': 11,\n",
       "  'character': 'Robin McCall',\n",
       "  'credit_id': '52fe44dac3a36847f80adfad',\n",
       "  'gender': 1,\n",
       "  'id': 63279,\n",
       "  'name': 'Anna Deavere Smith',\n",
       "  'order': 4,\n",
       "  'profile_path': '/1sJnUz9umndJBGZIh9QfxAd7uxg.jpg'},\n",
       " {'cast_id': 12,\n",
       "  'character': 'Lucy Shepherd',\n",
       "  'credit_id': '52fe44dac3a36847f80adfb1',\n",
       "  'gender': 1,\n",
       "  'id': 112080,\n",
       "  'name': 'Shawna Waldron',\n",
       "  'order': 5,\n",
       "  'profile_path': '/oWfERtTQVAhhvnzM7axvRD3lQju.jpg'},\n",
       " {'cast_id': 13,\n",
       "  'character': 'Janie Basdin',\n",
       "  'credit_id': '52fe44dac3a36847f80adfb5',\n",
       "  'gender': 1,\n",
       "  'id': 20767,\n",
       "  'name': 'Samantha Mathis',\n",
       "  'order': 6,\n",
       "  'profile_path': '/dzUjIFu7AAbwwJfj6aFRPfvYgC3.jpg'},\n",
       " {'cast_id': 14,\n",
       "  'character': 'Leon Kodak',\n",
       "  'credit_id': '52fe44dac3a36847f80adfb9',\n",
       "  'gender': 2,\n",
       "  'id': 19839,\n",
       "  'name': 'David Paymer',\n",
       "  'order': 7,\n",
       "  'profile_path': '/rrI6LgFb1la4PCIYuTB7pjIGgut.jpg'},\n",
       " {'cast_id': 15,\n",
       "  'character': 'Senator Bob Rumson',\n",
       "  'credit_id': '52fe44dac3a36847f80adfbd',\n",
       "  'gender': 2,\n",
       "  'id': 3037,\n",
       "  'name': 'Richard Dreyfuss',\n",
       "  'order': 8,\n",
       "  'profile_path': '/7JPMhXnfY5jgPbtByutwkHHZS3M.jpg'},\n",
       " {'cast_id': 16,\n",
       "  'character': 'Beth Wade',\n",
       "  'credit_id': '52fe44dac3a36847f80adfc1',\n",
       "  'gender': 1,\n",
       "  'id': 42133,\n",
       "  'name': 'Nina Siemaszko',\n",
       "  'order': 9,\n",
       "  'profile_path': '/htNzOMMh4Hys3EhTDWdJOlbtKpL.jpg'},\n",
       " {'cast_id': 17,\n",
       "  'character': 'Susan Sloan',\n",
       "  'credit_id': '52fe44dac3a36847f80adfc5',\n",
       "  'gender': 1,\n",
       "  'id': 61980,\n",
       "  'name': 'Wendie Malick',\n",
       "  'order': 10,\n",
       "  'profile_path': '/1Av0jIi4Hk30kruQjaRH2Am2TIE.jpg'},\n",
       " {'cast_id': 18,\n",
       "  'character': 'Agent Cooper',\n",
       "  'credit_id': '52fe44dac3a36847f80adfc9',\n",
       "  'gender': 2,\n",
       "  'id': 78494,\n",
       "  'name': 'Beau Billingslea',\n",
       "  'order': 11,\n",
       "  'profile_path': '/3Ooz7bdkkSwwbzOs9SPXIXvGKYQ.jpg'},\n",
       " {'cast_id': 19,\n",
       "  'character': 'Esther MacInerney',\n",
       "  'credit_id': '52fe44dac3a36847f80adfcd',\n",
       "  'gender': 1,\n",
       "  'id': 42003,\n",
       "  'name': 'Gail Strickland',\n",
       "  'order': 12,\n",
       "  'profile_path': '/pT9Tb2f07joxd7KYPLucak7X8J0.jpg'},\n",
       " {'cast_id': 20,\n",
       "  'character': 'David',\n",
       "  'credit_id': '52fe44dac3a36847f80adfd1',\n",
       "  'gender': 2,\n",
       "  'id': 131642,\n",
       "  'name': 'Joshua Malina',\n",
       "  'order': 13,\n",
       "  'profile_path': '/qa9ItKTmW35iicfsYXowg6P6qm6.jpg'},\n",
       " {'cast_id': 21,\n",
       "  'character': \"President René Jean D'Astier\",\n",
       "  'credit_id': '52fe44dac3a36847f80adfd5',\n",
       "  'gender': 2,\n",
       "  'id': 43115,\n",
       "  'name': 'Clement von Franckenstein',\n",
       "  'order': 14,\n",
       "  'profile_path': '/pwpD8AxmseZOmnWXRsDErKk08Ro.jpg'},\n",
       " {'cast_id': 22,\n",
       "  'character': 'Leo Solomon',\n",
       "  'credit_id': '52fe44dac3a36847f80adfd9',\n",
       "  'gender': 2,\n",
       "  'id': 4251,\n",
       "  'name': 'John Mahoney',\n",
       "  'order': 15,\n",
       "  'profile_path': '/jK2uDKxfysuYjNAgUxbwyhd4fKD.jpg'},\n",
       " {'cast_id': 23,\n",
       "  'character': 'Chairman of the Joint Chiefs',\n",
       "  'credit_id': '52fe44dac3a36847f80adfdd',\n",
       "  'gender': 2,\n",
       "  'id': 43978,\n",
       "  'name': 'John Mahon',\n",
       "  'order': 16,\n",
       "  'profile_path': '/tkBnAn8PA3gSOj3bSH8zquD7P04.jpg'},\n",
       " {'cast_id': 24,\n",
       "  'character': 'Jeff',\n",
       "  'credit_id': '56bb985592514144db0003ad',\n",
       "  'gender': 0,\n",
       "  'id': 92808,\n",
       "  'name': 'Gabriel Jarret',\n",
       "  'order': 17,\n",
       "  'profile_path': '/19LMwcgNFfQnmcIkWeb4SVjKNyR.jpg'}]"
      ]
     },
     "execution_count": 44,
     "metadata": {},
     "output_type": "execute_result"
    }
   ],
   "source": [
    "ast.literal_eval(df.cast[10])"
   ]
  },
  {
   "cell_type": "code",
   "execution_count": 45,
   "id": "6c0e39f4",
   "metadata": {},
   "outputs": [],
   "source": [
    "def convert2(obj):\n",
    "    L=[]\n",
    "    for i in ast.literal_eval(obj):\n",
    "        x = i['name'].lower().replace(\" \", \"\")\n",
    "        L.append(x)\n",
    "    return L[:3]"
   ]
  },
  {
   "cell_type": "code",
   "execution_count": 46,
   "id": "4e50af77",
   "metadata": {},
   "outputs": [],
   "source": [
    "df['cast'] = df['cast'].apply(convert2)"
   ]
  },
  {
   "cell_type": "code",
   "execution_count": 47,
   "id": "9d378322",
   "metadata": {},
   "outputs": [
    {
     "data": {
      "text/html": [
       "<div>\n",
       "<style scoped>\n",
       "    .dataframe tbody tr th:only-of-type {\n",
       "        vertical-align: middle;\n",
       "    }\n",
       "\n",
       "    .dataframe tbody tr th {\n",
       "        vertical-align: top;\n",
       "    }\n",
       "\n",
       "    .dataframe thead th {\n",
       "        text-align: right;\n",
       "    }\n",
       "</style>\n",
       "<table border=\"1\" class=\"dataframe\">\n",
       "  <thead>\n",
       "    <tr style=\"text-align: right;\">\n",
       "      <th></th>\n",
       "      <th>adult</th>\n",
       "      <th>genres</th>\n",
       "      <th>id</th>\n",
       "      <th>overview</th>\n",
       "      <th>production_companies</th>\n",
       "      <th>title</th>\n",
       "      <th>cast</th>\n",
       "      <th>crew</th>\n",
       "      <th>keywords</th>\n",
       "    </tr>\n",
       "  </thead>\n",
       "  <tbody>\n",
       "    <tr>\n",
       "      <th>0</th>\n",
       "      <td>False</td>\n",
       "      <td>[animation, comedy, family]</td>\n",
       "      <td>862</td>\n",
       "      <td>Led by Woody, Andy's toys live happily in his ...</td>\n",
       "      <td>[pixaranimationstudios]</td>\n",
       "      <td>Toy Story</td>\n",
       "      <td>[tomhanks, timallen, donrickles]</td>\n",
       "      <td>[{'credit_id': '52fe4284c3a36847f8024f49', 'de...</td>\n",
       "      <td>[{'id': 931, 'name': 'jealousy'}, {'id': 4290,...</td>\n",
       "    </tr>\n",
       "    <tr>\n",
       "      <th>1</th>\n",
       "      <td>False</td>\n",
       "      <td>[adventure, fantasy, family]</td>\n",
       "      <td>8844</td>\n",
       "      <td>When siblings Judy and Peter discover an encha...</td>\n",
       "      <td>[tristarpictures, teitlerfilm, interscopecommu...</td>\n",
       "      <td>Jumanji</td>\n",
       "      <td>[robinwilliams, jonathanhyde, kirstendunst]</td>\n",
       "      <td>[{'credit_id': '52fe44bfc3a36847f80a7cd1', 'de...</td>\n",
       "      <td>[{'id': 10090, 'name': 'board game'}, {'id': 1...</td>\n",
       "    </tr>\n",
       "    <tr>\n",
       "      <th>2</th>\n",
       "      <td>False</td>\n",
       "      <td>[romance, comedy]</td>\n",
       "      <td>15602</td>\n",
       "      <td>A family wedding reignites the ancient feud be...</td>\n",
       "      <td>[warnerbros., lancastergate]</td>\n",
       "      <td>Grumpier Old Men</td>\n",
       "      <td>[waltermatthau, jacklemmon, ann-margret]</td>\n",
       "      <td>[{'credit_id': '52fe466a9251416c75077a89', 'de...</td>\n",
       "      <td>[{'id': 1495, 'name': 'fishing'}, {'id': 12392...</td>\n",
       "    </tr>\n",
       "  </tbody>\n",
       "</table>\n",
       "</div>"
      ],
      "text/plain": [
       "   adult                        genres     id  \\\n",
       "0  False   [animation, comedy, family]    862   \n",
       "1  False  [adventure, fantasy, family]   8844   \n",
       "2  False             [romance, comedy]  15602   \n",
       "\n",
       "                                            overview  \\\n",
       "0  Led by Woody, Andy's toys live happily in his ...   \n",
       "1  When siblings Judy and Peter discover an encha...   \n",
       "2  A family wedding reignites the ancient feud be...   \n",
       "\n",
       "                                production_companies             title  \\\n",
       "0                            [pixaranimationstudios]         Toy Story   \n",
       "1  [tristarpictures, teitlerfilm, interscopecommu...           Jumanji   \n",
       "2                       [warnerbros., lancastergate]  Grumpier Old Men   \n",
       "\n",
       "                                          cast  \\\n",
       "0             [tomhanks, timallen, donrickles]   \n",
       "1  [robinwilliams, jonathanhyde, kirstendunst]   \n",
       "2     [waltermatthau, jacklemmon, ann-margret]   \n",
       "\n",
       "                                                crew  \\\n",
       "0  [{'credit_id': '52fe4284c3a36847f8024f49', 'de...   \n",
       "1  [{'credit_id': '52fe44bfc3a36847f80a7cd1', 'de...   \n",
       "2  [{'credit_id': '52fe466a9251416c75077a89', 'de...   \n",
       "\n",
       "                                            keywords  \n",
       "0  [{'id': 931, 'name': 'jealousy'}, {'id': 4290,...  \n",
       "1  [{'id': 10090, 'name': 'board game'}, {'id': 1...  \n",
       "2  [{'id': 1495, 'name': 'fishing'}, {'id': 12392...  "
      ]
     },
     "execution_count": 47,
     "metadata": {},
     "output_type": "execute_result"
    }
   ],
   "source": [
    "df.head(3)"
   ]
  },
  {
   "cell_type": "markdown",
   "id": "71aafc6d",
   "metadata": {},
   "source": [
    "### crew column modification"
   ]
  },
  {
   "cell_type": "code",
   "execution_count": 48,
   "id": "82fc9426",
   "metadata": {},
   "outputs": [
    {
     "data": {
      "text/plain": [
       "[{'credit_id': '52fe44dac3a36847f80adfa3',\n",
       "  'department': 'Camera',\n",
       "  'gender': 2,\n",
       "  'id': 2702,\n",
       "  'job': 'Director of Photography',\n",
       "  'name': 'John Seale',\n",
       "  'profile_path': '/w4wp04pRMqJI2vt3gFTdIWLDDzp.jpg'},\n",
       " {'credit_id': '52fe44dac3a36847f80adf8b',\n",
       "  'department': 'Directing',\n",
       "  'gender': 2,\n",
       "  'id': 3026,\n",
       "  'job': 'Director',\n",
       "  'name': 'Rob Reiner',\n",
       "  'profile_path': '/2zw9Iq9uo4vZiTQNQWdNFwbA1TA.jpg'},\n",
       " {'credit_id': '52fe44dac3a36847f80adf97',\n",
       "  'department': 'Production',\n",
       "  'gender': 2,\n",
       "  'id': 3026,\n",
       "  'job': 'Producer',\n",
       "  'name': 'Rob Reiner',\n",
       "  'profile_path': '/2zw9Iq9uo4vZiTQNQWdNFwbA1TA.jpg'},\n",
       " {'credit_id': '52fe44dac3a36847f80adfa9',\n",
       "  'department': 'Editing',\n",
       "  'gender': 2,\n",
       "  'id': 3032,\n",
       "  'job': 'Editor',\n",
       "  'name': 'Robert Leighton',\n",
       "  'profile_path': None},\n",
       " {'credit_id': '52fe44dac3a36847f80adf9d',\n",
       "  'department': 'Sound',\n",
       "  'gender': 2,\n",
       "  'id': 9251,\n",
       "  'job': 'Music',\n",
       "  'name': 'Marc Shaiman',\n",
       "  'profile_path': '/aesoPh8jPR5qDKjjt7o5uj9kS3W.jpg'},\n",
       " {'credit_id': '52fe44dac3a36847f80adf91',\n",
       "  'department': 'Writing',\n",
       "  'gender': 2,\n",
       "  'id': 13520,\n",
       "  'job': 'Screenplay',\n",
       "  'name': 'Aaron Sorkin',\n",
       "  'profile_path': '/oFff5AbvrhmPW2WsyXV5cL7KURN.jpg'}]"
      ]
     },
     "execution_count": 48,
     "metadata": {},
     "output_type": "execute_result"
    }
   ],
   "source": [
    "ast.literal_eval(df.crew[10])"
   ]
  },
  {
   "cell_type": "code",
   "execution_count": 49,
   "id": "f664a91d",
   "metadata": {},
   "outputs": [],
   "source": [
    "def convert3(obj):\n",
    "    L=[]\n",
    "    for i in ast.literal_eval(obj):\n",
    "        if i['job'] == 'Director':\n",
    "            L.append(i['name'].lower().replace(\" \", \"\"))\n",
    "    \n",
    "    return L"
   ]
  },
  {
   "cell_type": "code",
   "execution_count": 50,
   "id": "084ce8d6",
   "metadata": {},
   "outputs": [],
   "source": [
    "df['crew'] = df['crew'].apply(convert3)"
   ]
  },
  {
   "cell_type": "code",
   "execution_count": 51,
   "id": "f0b2bad1",
   "metadata": {},
   "outputs": [
    {
     "data": {
      "text/html": [
       "<div>\n",
       "<style scoped>\n",
       "    .dataframe tbody tr th:only-of-type {\n",
       "        vertical-align: middle;\n",
       "    }\n",
       "\n",
       "    .dataframe tbody tr th {\n",
       "        vertical-align: top;\n",
       "    }\n",
       "\n",
       "    .dataframe thead th {\n",
       "        text-align: right;\n",
       "    }\n",
       "</style>\n",
       "<table border=\"1\" class=\"dataframe\">\n",
       "  <thead>\n",
       "    <tr style=\"text-align: right;\">\n",
       "      <th></th>\n",
       "      <th>adult</th>\n",
       "      <th>genres</th>\n",
       "      <th>id</th>\n",
       "      <th>overview</th>\n",
       "      <th>production_companies</th>\n",
       "      <th>title</th>\n",
       "      <th>cast</th>\n",
       "      <th>crew</th>\n",
       "      <th>keywords</th>\n",
       "    </tr>\n",
       "  </thead>\n",
       "  <tbody>\n",
       "    <tr>\n",
       "      <th>0</th>\n",
       "      <td>False</td>\n",
       "      <td>[animation, comedy, family]</td>\n",
       "      <td>862</td>\n",
       "      <td>Led by Woody, Andy's toys live happily in his ...</td>\n",
       "      <td>[pixaranimationstudios]</td>\n",
       "      <td>Toy Story</td>\n",
       "      <td>[tomhanks, timallen, donrickles]</td>\n",
       "      <td>[johnlasseter]</td>\n",
       "      <td>[{'id': 931, 'name': 'jealousy'}, {'id': 4290,...</td>\n",
       "    </tr>\n",
       "    <tr>\n",
       "      <th>1</th>\n",
       "      <td>False</td>\n",
       "      <td>[adventure, fantasy, family]</td>\n",
       "      <td>8844</td>\n",
       "      <td>When siblings Judy and Peter discover an encha...</td>\n",
       "      <td>[tristarpictures, teitlerfilm, interscopecommu...</td>\n",
       "      <td>Jumanji</td>\n",
       "      <td>[robinwilliams, jonathanhyde, kirstendunst]</td>\n",
       "      <td>[joejohnston]</td>\n",
       "      <td>[{'id': 10090, 'name': 'board game'}, {'id': 1...</td>\n",
       "    </tr>\n",
       "    <tr>\n",
       "      <th>2</th>\n",
       "      <td>False</td>\n",
       "      <td>[romance, comedy]</td>\n",
       "      <td>15602</td>\n",
       "      <td>A family wedding reignites the ancient feud be...</td>\n",
       "      <td>[warnerbros., lancastergate]</td>\n",
       "      <td>Grumpier Old Men</td>\n",
       "      <td>[waltermatthau, jacklemmon, ann-margret]</td>\n",
       "      <td>[howarddeutch]</td>\n",
       "      <td>[{'id': 1495, 'name': 'fishing'}, {'id': 12392...</td>\n",
       "    </tr>\n",
       "  </tbody>\n",
       "</table>\n",
       "</div>"
      ],
      "text/plain": [
       "   adult                        genres     id  \\\n",
       "0  False   [animation, comedy, family]    862   \n",
       "1  False  [adventure, fantasy, family]   8844   \n",
       "2  False             [romance, comedy]  15602   \n",
       "\n",
       "                                            overview  \\\n",
       "0  Led by Woody, Andy's toys live happily in his ...   \n",
       "1  When siblings Judy and Peter discover an encha...   \n",
       "2  A family wedding reignites the ancient feud be...   \n",
       "\n",
       "                                production_companies             title  \\\n",
       "0                            [pixaranimationstudios]         Toy Story   \n",
       "1  [tristarpictures, teitlerfilm, interscopecommu...           Jumanji   \n",
       "2                       [warnerbros., lancastergate]  Grumpier Old Men   \n",
       "\n",
       "                                          cast            crew  \\\n",
       "0             [tomhanks, timallen, donrickles]  [johnlasseter]   \n",
       "1  [robinwilliams, jonathanhyde, kirstendunst]   [joejohnston]   \n",
       "2     [waltermatthau, jacklemmon, ann-margret]  [howarddeutch]   \n",
       "\n",
       "                                            keywords  \n",
       "0  [{'id': 931, 'name': 'jealousy'}, {'id': 4290,...  \n",
       "1  [{'id': 10090, 'name': 'board game'}, {'id': 1...  \n",
       "2  [{'id': 1495, 'name': 'fishing'}, {'id': 12392...  "
      ]
     },
     "execution_count": 51,
     "metadata": {},
     "output_type": "execute_result"
    }
   ],
   "source": [
    "df.head(3)"
   ]
  },
  {
   "cell_type": "markdown",
   "id": "65f67dbd",
   "metadata": {},
   "source": [
    "### modify keywords"
   ]
  },
  {
   "cell_type": "code",
   "execution_count": 52,
   "id": "66f0ed68",
   "metadata": {},
   "outputs": [
    {
     "data": {
      "text/plain": [
       "[{'id': 818, 'name': 'based on novel'},\n",
       " {'id': 10131, 'name': 'interracial relationship'},\n",
       " {'id': 14768, 'name': 'single mother'},\n",
       " {'id': 15160, 'name': 'divorce'},\n",
       " {'id': 33455, 'name': 'chick flick'}]"
      ]
     },
     "execution_count": 52,
     "metadata": {},
     "output_type": "execute_result"
    }
   ],
   "source": [
    "ast.literal_eval(df['keywords'][3])"
   ]
  },
  {
   "cell_type": "code",
   "execution_count": 53,
   "id": "73c4478f",
   "metadata": {},
   "outputs": [],
   "source": [
    "def convert4(obj):\n",
    "    L=[]\n",
    "    for i in ast.literal_eval(obj):\n",
    "        L.append(i['name'].lower().replace(\" \", \"\"))\n",
    "    return L"
   ]
  },
  {
   "cell_type": "code",
   "execution_count": 54,
   "id": "8f2423b4",
   "metadata": {},
   "outputs": [],
   "source": [
    "df['keywords'] = df['keywords'].apply(convert4)"
   ]
  },
  {
   "cell_type": "code",
   "execution_count": 55,
   "id": "50f73811",
   "metadata": {},
   "outputs": [
    {
     "data": {
      "text/html": [
       "<div>\n",
       "<style scoped>\n",
       "    .dataframe tbody tr th:only-of-type {\n",
       "        vertical-align: middle;\n",
       "    }\n",
       "\n",
       "    .dataframe tbody tr th {\n",
       "        vertical-align: top;\n",
       "    }\n",
       "\n",
       "    .dataframe thead th {\n",
       "        text-align: right;\n",
       "    }\n",
       "</style>\n",
       "<table border=\"1\" class=\"dataframe\">\n",
       "  <thead>\n",
       "    <tr style=\"text-align: right;\">\n",
       "      <th></th>\n",
       "      <th>adult</th>\n",
       "      <th>genres</th>\n",
       "      <th>id</th>\n",
       "      <th>overview</th>\n",
       "      <th>production_companies</th>\n",
       "      <th>title</th>\n",
       "      <th>cast</th>\n",
       "      <th>crew</th>\n",
       "      <th>keywords</th>\n",
       "    </tr>\n",
       "  </thead>\n",
       "  <tbody>\n",
       "    <tr>\n",
       "      <th>0</th>\n",
       "      <td>False</td>\n",
       "      <td>[animation, comedy, family]</td>\n",
       "      <td>862</td>\n",
       "      <td>Led by Woody, Andy's toys live happily in his ...</td>\n",
       "      <td>[pixaranimationstudios]</td>\n",
       "      <td>Toy Story</td>\n",
       "      <td>[tomhanks, timallen, donrickles]</td>\n",
       "      <td>[johnlasseter]</td>\n",
       "      <td>[jealousy, toy, boy, friendship, friends, riva...</td>\n",
       "    </tr>\n",
       "    <tr>\n",
       "      <th>1</th>\n",
       "      <td>False</td>\n",
       "      <td>[adventure, fantasy, family]</td>\n",
       "      <td>8844</td>\n",
       "      <td>When siblings Judy and Peter discover an encha...</td>\n",
       "      <td>[tristarpictures, teitlerfilm, interscopecommu...</td>\n",
       "      <td>Jumanji</td>\n",
       "      <td>[robinwilliams, jonathanhyde, kirstendunst]</td>\n",
       "      <td>[joejohnston]</td>\n",
       "      <td>[boardgame, disappearance, basedonchildren'sbo...</td>\n",
       "    </tr>\n",
       "    <tr>\n",
       "      <th>2</th>\n",
       "      <td>False</td>\n",
       "      <td>[romance, comedy]</td>\n",
       "      <td>15602</td>\n",
       "      <td>A family wedding reignites the ancient feud be...</td>\n",
       "      <td>[warnerbros., lancastergate]</td>\n",
       "      <td>Grumpier Old Men</td>\n",
       "      <td>[waltermatthau, jacklemmon, ann-margret]</td>\n",
       "      <td>[howarddeutch]</td>\n",
       "      <td>[fishing, bestfriend, duringcreditsstinger, ol...</td>\n",
       "    </tr>\n",
       "    <tr>\n",
       "      <th>3</th>\n",
       "      <td>False</td>\n",
       "      <td>[comedy, drama, romance]</td>\n",
       "      <td>31357</td>\n",
       "      <td>Cheated on, mistreated and stepped on, the wom...</td>\n",
       "      <td>[twentiethcenturyfoxfilmcorporation]</td>\n",
       "      <td>Waiting to Exhale</td>\n",
       "      <td>[whitneyhouston, angelabassett, lorettadevine]</td>\n",
       "      <td>[forestwhitaker]</td>\n",
       "      <td>[basedonnovel, interracialrelationship, single...</td>\n",
       "    </tr>\n",
       "    <tr>\n",
       "      <th>4</th>\n",
       "      <td>False</td>\n",
       "      <td>[comedy]</td>\n",
       "      <td>11862</td>\n",
       "      <td>Just when George Banks has recovered from his ...</td>\n",
       "      <td>[sandollarproductions, touchstonepictures]</td>\n",
       "      <td>Father of the Bride Part II</td>\n",
       "      <td>[stevemartin, dianekeaton, martinshort]</td>\n",
       "      <td>[charlesshyer]</td>\n",
       "      <td>[baby, midlifecrisis, confidence, aging, daugh...</td>\n",
       "    </tr>\n",
       "  </tbody>\n",
       "</table>\n",
       "</div>"
      ],
      "text/plain": [
       "   adult                        genres     id  \\\n",
       "0  False   [animation, comedy, family]    862   \n",
       "1  False  [adventure, fantasy, family]   8844   \n",
       "2  False             [romance, comedy]  15602   \n",
       "3  False      [comedy, drama, romance]  31357   \n",
       "4  False                      [comedy]  11862   \n",
       "\n",
       "                                            overview  \\\n",
       "0  Led by Woody, Andy's toys live happily in his ...   \n",
       "1  When siblings Judy and Peter discover an encha...   \n",
       "2  A family wedding reignites the ancient feud be...   \n",
       "3  Cheated on, mistreated and stepped on, the wom...   \n",
       "4  Just when George Banks has recovered from his ...   \n",
       "\n",
       "                                production_companies  \\\n",
       "0                            [pixaranimationstudios]   \n",
       "1  [tristarpictures, teitlerfilm, interscopecommu...   \n",
       "2                       [warnerbros., lancastergate]   \n",
       "3               [twentiethcenturyfoxfilmcorporation]   \n",
       "4         [sandollarproductions, touchstonepictures]   \n",
       "\n",
       "                         title  \\\n",
       "0                    Toy Story   \n",
       "1                      Jumanji   \n",
       "2             Grumpier Old Men   \n",
       "3            Waiting to Exhale   \n",
       "4  Father of the Bride Part II   \n",
       "\n",
       "                                             cast              crew  \\\n",
       "0                [tomhanks, timallen, donrickles]    [johnlasseter]   \n",
       "1     [robinwilliams, jonathanhyde, kirstendunst]     [joejohnston]   \n",
       "2        [waltermatthau, jacklemmon, ann-margret]    [howarddeutch]   \n",
       "3  [whitneyhouston, angelabassett, lorettadevine]  [forestwhitaker]   \n",
       "4         [stevemartin, dianekeaton, martinshort]    [charlesshyer]   \n",
       "\n",
       "                                            keywords  \n",
       "0  [jealousy, toy, boy, friendship, friends, riva...  \n",
       "1  [boardgame, disappearance, basedonchildren'sbo...  \n",
       "2  [fishing, bestfriend, duringcreditsstinger, ol...  \n",
       "3  [basedonnovel, interracialrelationship, single...  \n",
       "4  [baby, midlifecrisis, confidence, aging, daugh...  "
      ]
     },
     "execution_count": 55,
     "metadata": {},
     "output_type": "execute_result"
    }
   ],
   "source": [
    "df.head(5)"
   ]
  },
  {
   "cell_type": "markdown",
   "id": "764fb152",
   "metadata": {},
   "source": [
    "### Modify 'adult' column"
   ]
  },
  {
   "cell_type": "code",
   "execution_count": 56,
   "id": "56109ad8",
   "metadata": {},
   "outputs": [
    {
     "data": {
      "text/plain": [
       "array(['False', 'True'], dtype=object)"
      ]
     },
     "execution_count": 56,
     "metadata": {},
     "output_type": "execute_result"
    }
   ],
   "source": [
    "df.adult.unique()"
   ]
  },
  {
   "cell_type": "code",
   "execution_count": 57,
   "id": "453a7372",
   "metadata": {},
   "outputs": [],
   "source": [
    "def convert5(obj):\n",
    "    if obj == 'False':\n",
    "        return ['f']\n",
    "    elif obj == 'True':\n",
    "        return ['t']\n",
    "    else:\n",
    "        return 'na'"
   ]
  },
  {
   "cell_type": "code",
   "execution_count": 58,
   "id": "fd474d0c",
   "metadata": {},
   "outputs": [],
   "source": [
    "df['adult'] = df.adult.apply(convert5)"
   ]
  },
  {
   "cell_type": "code",
   "execution_count": 59,
   "id": "92bde7ac",
   "metadata": {},
   "outputs": [
    {
     "data": {
      "text/html": [
       "<div>\n",
       "<style scoped>\n",
       "    .dataframe tbody tr th:only-of-type {\n",
       "        vertical-align: middle;\n",
       "    }\n",
       "\n",
       "    .dataframe tbody tr th {\n",
       "        vertical-align: top;\n",
       "    }\n",
       "\n",
       "    .dataframe thead th {\n",
       "        text-align: right;\n",
       "    }\n",
       "</style>\n",
       "<table border=\"1\" class=\"dataframe\">\n",
       "  <thead>\n",
       "    <tr style=\"text-align: right;\">\n",
       "      <th></th>\n",
       "      <th>adult</th>\n",
       "      <th>genres</th>\n",
       "      <th>id</th>\n",
       "      <th>overview</th>\n",
       "      <th>production_companies</th>\n",
       "      <th>title</th>\n",
       "      <th>cast</th>\n",
       "      <th>crew</th>\n",
       "      <th>keywords</th>\n",
       "    </tr>\n",
       "  </thead>\n",
       "  <tbody>\n",
       "    <tr>\n",
       "      <th>0</th>\n",
       "      <td>[f]</td>\n",
       "      <td>[animation, comedy, family]</td>\n",
       "      <td>862</td>\n",
       "      <td>Led by Woody, Andy's toys live happily in his ...</td>\n",
       "      <td>[pixaranimationstudios]</td>\n",
       "      <td>Toy Story</td>\n",
       "      <td>[tomhanks, timallen, donrickles]</td>\n",
       "      <td>[johnlasseter]</td>\n",
       "      <td>[jealousy, toy, boy, friendship, friends, riva...</td>\n",
       "    </tr>\n",
       "    <tr>\n",
       "      <th>1</th>\n",
       "      <td>[f]</td>\n",
       "      <td>[adventure, fantasy, family]</td>\n",
       "      <td>8844</td>\n",
       "      <td>When siblings Judy and Peter discover an encha...</td>\n",
       "      <td>[tristarpictures, teitlerfilm, interscopecommu...</td>\n",
       "      <td>Jumanji</td>\n",
       "      <td>[robinwilliams, jonathanhyde, kirstendunst]</td>\n",
       "      <td>[joejohnston]</td>\n",
       "      <td>[boardgame, disappearance, basedonchildren'sbo...</td>\n",
       "    </tr>\n",
       "    <tr>\n",
       "      <th>2</th>\n",
       "      <td>[f]</td>\n",
       "      <td>[romance, comedy]</td>\n",
       "      <td>15602</td>\n",
       "      <td>A family wedding reignites the ancient feud be...</td>\n",
       "      <td>[warnerbros., lancastergate]</td>\n",
       "      <td>Grumpier Old Men</td>\n",
       "      <td>[waltermatthau, jacklemmon, ann-margret]</td>\n",
       "      <td>[howarddeutch]</td>\n",
       "      <td>[fishing, bestfriend, duringcreditsstinger, ol...</td>\n",
       "    </tr>\n",
       "    <tr>\n",
       "      <th>3</th>\n",
       "      <td>[f]</td>\n",
       "      <td>[comedy, drama, romance]</td>\n",
       "      <td>31357</td>\n",
       "      <td>Cheated on, mistreated and stepped on, the wom...</td>\n",
       "      <td>[twentiethcenturyfoxfilmcorporation]</td>\n",
       "      <td>Waiting to Exhale</td>\n",
       "      <td>[whitneyhouston, angelabassett, lorettadevine]</td>\n",
       "      <td>[forestwhitaker]</td>\n",
       "      <td>[basedonnovel, interracialrelationship, single...</td>\n",
       "    </tr>\n",
       "    <tr>\n",
       "      <th>4</th>\n",
       "      <td>[f]</td>\n",
       "      <td>[comedy]</td>\n",
       "      <td>11862</td>\n",
       "      <td>Just when George Banks has recovered from his ...</td>\n",
       "      <td>[sandollarproductions, touchstonepictures]</td>\n",
       "      <td>Father of the Bride Part II</td>\n",
       "      <td>[stevemartin, dianekeaton, martinshort]</td>\n",
       "      <td>[charlesshyer]</td>\n",
       "      <td>[baby, midlifecrisis, confidence, aging, daugh...</td>\n",
       "    </tr>\n",
       "  </tbody>\n",
       "</table>\n",
       "</div>"
      ],
      "text/plain": [
       "  adult                        genres     id  \\\n",
       "0   [f]   [animation, comedy, family]    862   \n",
       "1   [f]  [adventure, fantasy, family]   8844   \n",
       "2   [f]             [romance, comedy]  15602   \n",
       "3   [f]      [comedy, drama, romance]  31357   \n",
       "4   [f]                      [comedy]  11862   \n",
       "\n",
       "                                            overview  \\\n",
       "0  Led by Woody, Andy's toys live happily in his ...   \n",
       "1  When siblings Judy and Peter discover an encha...   \n",
       "2  A family wedding reignites the ancient feud be...   \n",
       "3  Cheated on, mistreated and stepped on, the wom...   \n",
       "4  Just when George Banks has recovered from his ...   \n",
       "\n",
       "                                production_companies  \\\n",
       "0                            [pixaranimationstudios]   \n",
       "1  [tristarpictures, teitlerfilm, interscopecommu...   \n",
       "2                       [warnerbros., lancastergate]   \n",
       "3               [twentiethcenturyfoxfilmcorporation]   \n",
       "4         [sandollarproductions, touchstonepictures]   \n",
       "\n",
       "                         title  \\\n",
       "0                    Toy Story   \n",
       "1                      Jumanji   \n",
       "2             Grumpier Old Men   \n",
       "3            Waiting to Exhale   \n",
       "4  Father of the Bride Part II   \n",
       "\n",
       "                                             cast              crew  \\\n",
       "0                [tomhanks, timallen, donrickles]    [johnlasseter]   \n",
       "1     [robinwilliams, jonathanhyde, kirstendunst]     [joejohnston]   \n",
       "2        [waltermatthau, jacklemmon, ann-margret]    [howarddeutch]   \n",
       "3  [whitneyhouston, angelabassett, lorettadevine]  [forestwhitaker]   \n",
       "4         [stevemartin, dianekeaton, martinshort]    [charlesshyer]   \n",
       "\n",
       "                                            keywords  \n",
       "0  [jealousy, toy, boy, friendship, friends, riva...  \n",
       "1  [boardgame, disappearance, basedonchildren'sbo...  \n",
       "2  [fishing, bestfriend, duringcreditsstinger, ol...  \n",
       "3  [basedonnovel, interracialrelationship, single...  \n",
       "4  [baby, midlifecrisis, confidence, aging, daugh...  "
      ]
     },
     "execution_count": 59,
     "metadata": {},
     "output_type": "execute_result"
    }
   ],
   "source": [
    "df.head()"
   ]
  },
  {
   "cell_type": "markdown",
   "id": "4cbffd3f",
   "metadata": {},
   "source": [
    "### Modify 'overview' column"
   ]
  },
  {
   "cell_type": "code",
   "execution_count": 60,
   "id": "81ae1c4c",
   "metadata": {},
   "outputs": [],
   "source": [
    "df['overview'] = df['overview'].apply(lambda x: x.split())"
   ]
  },
  {
   "cell_type": "code",
   "execution_count": 61,
   "id": "f256e69e",
   "metadata": {},
   "outputs": [
    {
     "data": {
      "text/html": [
       "<div>\n",
       "<style scoped>\n",
       "    .dataframe tbody tr th:only-of-type {\n",
       "        vertical-align: middle;\n",
       "    }\n",
       "\n",
       "    .dataframe tbody tr th {\n",
       "        vertical-align: top;\n",
       "    }\n",
       "\n",
       "    .dataframe thead th {\n",
       "        text-align: right;\n",
       "    }\n",
       "</style>\n",
       "<table border=\"1\" class=\"dataframe\">\n",
       "  <thead>\n",
       "    <tr style=\"text-align: right;\">\n",
       "      <th></th>\n",
       "      <th>adult</th>\n",
       "      <th>genres</th>\n",
       "      <th>id</th>\n",
       "      <th>overview</th>\n",
       "      <th>production_companies</th>\n",
       "      <th>title</th>\n",
       "      <th>cast</th>\n",
       "      <th>crew</th>\n",
       "      <th>keywords</th>\n",
       "    </tr>\n",
       "  </thead>\n",
       "  <tbody>\n",
       "    <tr>\n",
       "      <th>0</th>\n",
       "      <td>[f]</td>\n",
       "      <td>[animation, comedy, family]</td>\n",
       "      <td>862</td>\n",
       "      <td>[Led, by, Woody,, Andy's, toys, live, happily,...</td>\n",
       "      <td>[pixaranimationstudios]</td>\n",
       "      <td>Toy Story</td>\n",
       "      <td>[tomhanks, timallen, donrickles]</td>\n",
       "      <td>[johnlasseter]</td>\n",
       "      <td>[jealousy, toy, boy, friendship, friends, riva...</td>\n",
       "    </tr>\n",
       "    <tr>\n",
       "      <th>1</th>\n",
       "      <td>[f]</td>\n",
       "      <td>[adventure, fantasy, family]</td>\n",
       "      <td>8844</td>\n",
       "      <td>[When, siblings, Judy, and, Peter, discover, a...</td>\n",
       "      <td>[tristarpictures, teitlerfilm, interscopecommu...</td>\n",
       "      <td>Jumanji</td>\n",
       "      <td>[robinwilliams, jonathanhyde, kirstendunst]</td>\n",
       "      <td>[joejohnston]</td>\n",
       "      <td>[boardgame, disappearance, basedonchildren'sbo...</td>\n",
       "    </tr>\n",
       "    <tr>\n",
       "      <th>2</th>\n",
       "      <td>[f]</td>\n",
       "      <td>[romance, comedy]</td>\n",
       "      <td>15602</td>\n",
       "      <td>[A, family, wedding, reignites, the, ancient, ...</td>\n",
       "      <td>[warnerbros., lancastergate]</td>\n",
       "      <td>Grumpier Old Men</td>\n",
       "      <td>[waltermatthau, jacklemmon, ann-margret]</td>\n",
       "      <td>[howarddeutch]</td>\n",
       "      <td>[fishing, bestfriend, duringcreditsstinger, ol...</td>\n",
       "    </tr>\n",
       "  </tbody>\n",
       "</table>\n",
       "</div>"
      ],
      "text/plain": [
       "  adult                        genres     id  \\\n",
       "0   [f]   [animation, comedy, family]    862   \n",
       "1   [f]  [adventure, fantasy, family]   8844   \n",
       "2   [f]             [romance, comedy]  15602   \n",
       "\n",
       "                                            overview  \\\n",
       "0  [Led, by, Woody,, Andy's, toys, live, happily,...   \n",
       "1  [When, siblings, Judy, and, Peter, discover, a...   \n",
       "2  [A, family, wedding, reignites, the, ancient, ...   \n",
       "\n",
       "                                production_companies             title  \\\n",
       "0                            [pixaranimationstudios]         Toy Story   \n",
       "1  [tristarpictures, teitlerfilm, interscopecommu...           Jumanji   \n",
       "2                       [warnerbros., lancastergate]  Grumpier Old Men   \n",
       "\n",
       "                                          cast            crew  \\\n",
       "0             [tomhanks, timallen, donrickles]  [johnlasseter]   \n",
       "1  [robinwilliams, jonathanhyde, kirstendunst]   [joejohnston]   \n",
       "2     [waltermatthau, jacklemmon, ann-margret]  [howarddeutch]   \n",
       "\n",
       "                                            keywords  \n",
       "0  [jealousy, toy, boy, friendship, friends, riva...  \n",
       "1  [boardgame, disappearance, basedonchildren'sbo...  \n",
       "2  [fishing, bestfriend, duringcreditsstinger, ol...  "
      ]
     },
     "execution_count": 61,
     "metadata": {},
     "output_type": "execute_result"
    }
   ],
   "source": [
    "df.head(3)"
   ]
  },
  {
   "cell_type": "markdown",
   "id": "1e12ce92",
   "metadata": {},
   "source": [
    "### Rearrange the columns"
   ]
  },
  {
   "cell_type": "code",
   "execution_count": 62,
   "id": "496c73d9",
   "metadata": {},
   "outputs": [
    {
     "data": {
      "text/plain": [
       "Index(['adult', 'genres', 'id', 'overview', 'production_companies', 'title',\n",
       "       'cast', 'crew', 'keywords'],\n",
       "      dtype='object')"
      ]
     },
     "execution_count": 62,
     "metadata": {},
     "output_type": "execute_result"
    }
   ],
   "source": [
    "df.columns"
   ]
  },
  {
   "cell_type": "code",
   "execution_count": 63,
   "id": "6b2bf31f",
   "metadata": {},
   "outputs": [
    {
     "data": {
      "text/html": [
       "<div>\n",
       "<style scoped>\n",
       "    .dataframe tbody tr th:only-of-type {\n",
       "        vertical-align: middle;\n",
       "    }\n",
       "\n",
       "    .dataframe tbody tr th {\n",
       "        vertical-align: top;\n",
       "    }\n",
       "\n",
       "    .dataframe thead th {\n",
       "        text-align: right;\n",
       "    }\n",
       "</style>\n",
       "<table border=\"1\" class=\"dataframe\">\n",
       "  <thead>\n",
       "    <tr style=\"text-align: right;\">\n",
       "      <th></th>\n",
       "      <th>id</th>\n",
       "      <th>title</th>\n",
       "      <th>adult</th>\n",
       "      <th>genres</th>\n",
       "      <th>overview</th>\n",
       "      <th>cast</th>\n",
       "      <th>crew</th>\n",
       "      <th>keywords</th>\n",
       "      <th>production_companies</th>\n",
       "    </tr>\n",
       "  </thead>\n",
       "  <tbody>\n",
       "    <tr>\n",
       "      <th>0</th>\n",
       "      <td>862</td>\n",
       "      <td>Toy Story</td>\n",
       "      <td>[f]</td>\n",
       "      <td>[animation, comedy, family]</td>\n",
       "      <td>[Led, by, Woody,, Andy's, toys, live, happily,...</td>\n",
       "      <td>[tomhanks, timallen, donrickles]</td>\n",
       "      <td>[johnlasseter]</td>\n",
       "      <td>[jealousy, toy, boy, friendship, friends, riva...</td>\n",
       "      <td>[pixaranimationstudios]</td>\n",
       "    </tr>\n",
       "    <tr>\n",
       "      <th>1</th>\n",
       "      <td>8844</td>\n",
       "      <td>Jumanji</td>\n",
       "      <td>[f]</td>\n",
       "      <td>[adventure, fantasy, family]</td>\n",
       "      <td>[When, siblings, Judy, and, Peter, discover, a...</td>\n",
       "      <td>[robinwilliams, jonathanhyde, kirstendunst]</td>\n",
       "      <td>[joejohnston]</td>\n",
       "      <td>[boardgame, disappearance, basedonchildren'sbo...</td>\n",
       "      <td>[tristarpictures, teitlerfilm, interscopecommu...</td>\n",
       "    </tr>\n",
       "    <tr>\n",
       "      <th>2</th>\n",
       "      <td>15602</td>\n",
       "      <td>Grumpier Old Men</td>\n",
       "      <td>[f]</td>\n",
       "      <td>[romance, comedy]</td>\n",
       "      <td>[A, family, wedding, reignites, the, ancient, ...</td>\n",
       "      <td>[waltermatthau, jacklemmon, ann-margret]</td>\n",
       "      <td>[howarddeutch]</td>\n",
       "      <td>[fishing, bestfriend, duringcreditsstinger, ol...</td>\n",
       "      <td>[warnerbros., lancastergate]</td>\n",
       "    </tr>\n",
       "  </tbody>\n",
       "</table>\n",
       "</div>"
      ],
      "text/plain": [
       "      id             title adult                        genres  \\\n",
       "0    862         Toy Story   [f]   [animation, comedy, family]   \n",
       "1   8844           Jumanji   [f]  [adventure, fantasy, family]   \n",
       "2  15602  Grumpier Old Men   [f]             [romance, comedy]   \n",
       "\n",
       "                                            overview  \\\n",
       "0  [Led, by, Woody,, Andy's, toys, live, happily,...   \n",
       "1  [When, siblings, Judy, and, Peter, discover, a...   \n",
       "2  [A, family, wedding, reignites, the, ancient, ...   \n",
       "\n",
       "                                          cast            crew  \\\n",
       "0             [tomhanks, timallen, donrickles]  [johnlasseter]   \n",
       "1  [robinwilliams, jonathanhyde, kirstendunst]   [joejohnston]   \n",
       "2     [waltermatthau, jacklemmon, ann-margret]  [howarddeutch]   \n",
       "\n",
       "                                            keywords  \\\n",
       "0  [jealousy, toy, boy, friendship, friends, riva...   \n",
       "1  [boardgame, disappearance, basedonchildren'sbo...   \n",
       "2  [fishing, bestfriend, duringcreditsstinger, ol...   \n",
       "\n",
       "                                production_companies  \n",
       "0                            [pixaranimationstudios]  \n",
       "1  [tristarpictures, teitlerfilm, interscopecommu...  \n",
       "2                       [warnerbros., lancastergate]  "
      ]
     },
     "execution_count": 63,
     "metadata": {},
     "output_type": "execute_result"
    }
   ],
   "source": [
    "df = df[['id', 'title', 'adult', 'genres', 'overview', 'cast', 'crew', 'keywords', 'production_companies',]]\n",
    "df.head(3)"
   ]
  },
  {
   "cell_type": "markdown",
   "id": "829bf773",
   "metadata": {},
   "source": [
    "## Merge 3rd to last columns into a single column called 'tags'"
   ]
  },
  {
   "cell_type": "code",
   "execution_count": 64,
   "id": "d6391784",
   "metadata": {},
   "outputs": [],
   "source": [
    "df['tags'] = df['genres']+df['cast']+df['crew']+df['adult']+df['overview']+df['keywords']+df['production_companies']"
   ]
  },
  {
   "cell_type": "code",
   "execution_count": 65,
   "id": "fd44a423",
   "metadata": {},
   "outputs": [
    {
     "data": {
      "text/html": [
       "<div>\n",
       "<style scoped>\n",
       "    .dataframe tbody tr th:only-of-type {\n",
       "        vertical-align: middle;\n",
       "    }\n",
       "\n",
       "    .dataframe tbody tr th {\n",
       "        vertical-align: top;\n",
       "    }\n",
       "\n",
       "    .dataframe thead th {\n",
       "        text-align: right;\n",
       "    }\n",
       "</style>\n",
       "<table border=\"1\" class=\"dataframe\">\n",
       "  <thead>\n",
       "    <tr style=\"text-align: right;\">\n",
       "      <th></th>\n",
       "      <th>id</th>\n",
       "      <th>title</th>\n",
       "      <th>adult</th>\n",
       "      <th>genres</th>\n",
       "      <th>overview</th>\n",
       "      <th>cast</th>\n",
       "      <th>crew</th>\n",
       "      <th>keywords</th>\n",
       "      <th>production_companies</th>\n",
       "      <th>tags</th>\n",
       "    </tr>\n",
       "  </thead>\n",
       "  <tbody>\n",
       "    <tr>\n",
       "      <th>0</th>\n",
       "      <td>862</td>\n",
       "      <td>Toy Story</td>\n",
       "      <td>[f]</td>\n",
       "      <td>[animation, comedy, family]</td>\n",
       "      <td>[Led, by, Woody,, Andy's, toys, live, happily,...</td>\n",
       "      <td>[tomhanks, timallen, donrickles]</td>\n",
       "      <td>[johnlasseter]</td>\n",
       "      <td>[jealousy, toy, boy, friendship, friends, riva...</td>\n",
       "      <td>[pixaranimationstudios]</td>\n",
       "      <td>[animation, comedy, family, tomhanks, timallen...</td>\n",
       "    </tr>\n",
       "    <tr>\n",
       "      <th>1</th>\n",
       "      <td>8844</td>\n",
       "      <td>Jumanji</td>\n",
       "      <td>[f]</td>\n",
       "      <td>[adventure, fantasy, family]</td>\n",
       "      <td>[When, siblings, Judy, and, Peter, discover, a...</td>\n",
       "      <td>[robinwilliams, jonathanhyde, kirstendunst]</td>\n",
       "      <td>[joejohnston]</td>\n",
       "      <td>[boardgame, disappearance, basedonchildren'sbo...</td>\n",
       "      <td>[tristarpictures, teitlerfilm, interscopecommu...</td>\n",
       "      <td>[adventure, fantasy, family, robinwilliams, jo...</td>\n",
       "    </tr>\n",
       "  </tbody>\n",
       "</table>\n",
       "</div>"
      ],
      "text/plain": [
       "     id      title adult                        genres  \\\n",
       "0   862  Toy Story   [f]   [animation, comedy, family]   \n",
       "1  8844    Jumanji   [f]  [adventure, fantasy, family]   \n",
       "\n",
       "                                            overview  \\\n",
       "0  [Led, by, Woody,, Andy's, toys, live, happily,...   \n",
       "1  [When, siblings, Judy, and, Peter, discover, a...   \n",
       "\n",
       "                                          cast            crew  \\\n",
       "0             [tomhanks, timallen, donrickles]  [johnlasseter]   \n",
       "1  [robinwilliams, jonathanhyde, kirstendunst]   [joejohnston]   \n",
       "\n",
       "                                            keywords  \\\n",
       "0  [jealousy, toy, boy, friendship, friends, riva...   \n",
       "1  [boardgame, disappearance, basedonchildren'sbo...   \n",
       "\n",
       "                                production_companies  \\\n",
       "0                            [pixaranimationstudios]   \n",
       "1  [tristarpictures, teitlerfilm, interscopecommu...   \n",
       "\n",
       "                                                tags  \n",
       "0  [animation, comedy, family, tomhanks, timallen...  \n",
       "1  [adventure, fantasy, family, robinwilliams, jo...  "
      ]
     },
     "execution_count": 65,
     "metadata": {},
     "output_type": "execute_result"
    }
   ],
   "source": [
    "df.head(2)"
   ]
  },
  {
   "cell_type": "code",
   "execution_count": 66,
   "id": "535b9755",
   "metadata": {},
   "outputs": [
    {
     "data": {
      "text/plain": [
       "Index(['id', 'title', 'adult', 'genres', 'overview', 'cast', 'crew',\n",
       "       'keywords', 'production_companies', 'tags'],\n",
       "      dtype='object')"
      ]
     },
     "execution_count": 66,
     "metadata": {},
     "output_type": "execute_result"
    }
   ],
   "source": [
    "df.columns"
   ]
  },
  {
   "cell_type": "code",
   "execution_count": 67,
   "id": "24697503",
   "metadata": {},
   "outputs": [],
   "source": [
    "df = df.drop(columns=['adult', 'genres', 'overview', 'cast', 'crew','keywords', 'production_companies'])"
   ]
  },
  {
   "cell_type": "code",
   "execution_count": 68,
   "id": "54221c63",
   "metadata": {},
   "outputs": [
    {
     "data": {
      "text/html": [
       "<div>\n",
       "<style scoped>\n",
       "    .dataframe tbody tr th:only-of-type {\n",
       "        vertical-align: middle;\n",
       "    }\n",
       "\n",
       "    .dataframe tbody tr th {\n",
       "        vertical-align: top;\n",
       "    }\n",
       "\n",
       "    .dataframe thead th {\n",
       "        text-align: right;\n",
       "    }\n",
       "</style>\n",
       "<table border=\"1\" class=\"dataframe\">\n",
       "  <thead>\n",
       "    <tr style=\"text-align: right;\">\n",
       "      <th></th>\n",
       "      <th>id</th>\n",
       "      <th>title</th>\n",
       "      <th>tags</th>\n",
       "    </tr>\n",
       "  </thead>\n",
       "  <tbody>\n",
       "    <tr>\n",
       "      <th>0</th>\n",
       "      <td>862</td>\n",
       "      <td>Toy Story</td>\n",
       "      <td>[animation, comedy, family, tomhanks, timallen...</td>\n",
       "    </tr>\n",
       "    <tr>\n",
       "      <th>1</th>\n",
       "      <td>8844</td>\n",
       "      <td>Jumanji</td>\n",
       "      <td>[adventure, fantasy, family, robinwilliams, jo...</td>\n",
       "    </tr>\n",
       "    <tr>\n",
       "      <th>2</th>\n",
       "      <td>15602</td>\n",
       "      <td>Grumpier Old Men</td>\n",
       "      <td>[romance, comedy, waltermatthau, jacklemmon, a...</td>\n",
       "    </tr>\n",
       "  </tbody>\n",
       "</table>\n",
       "</div>"
      ],
      "text/plain": [
       "      id             title                                               tags\n",
       "0    862         Toy Story  [animation, comedy, family, tomhanks, timallen...\n",
       "1   8844           Jumanji  [adventure, fantasy, family, robinwilliams, jo...\n",
       "2  15602  Grumpier Old Men  [romance, comedy, waltermatthau, jacklemmon, a..."
      ]
     },
     "execution_count": 68,
     "metadata": {},
     "output_type": "execute_result"
    }
   ],
   "source": [
    "df.head(3)"
   ]
  },
  {
   "cell_type": "code",
   "execution_count": 69,
   "id": "adac3920",
   "metadata": {},
   "outputs": [],
   "source": [
    "df['tags'] = df['tags'].apply(lambda x:\" \".join(x))"
   ]
  },
  {
   "cell_type": "code",
   "execution_count": 71,
   "id": "12acfcb4",
   "metadata": {},
   "outputs": [],
   "source": [
    "df = df.sample(10000)"
   ]
  },
  {
   "cell_type": "code",
   "execution_count": 73,
   "id": "4eabd75c",
   "metadata": {},
   "outputs": [],
   "source": [
    "df.reset_index(inplace=True)"
   ]
  },
  {
   "cell_type": "code",
   "execution_count": 76,
   "id": "f32fc4d6",
   "metadata": {},
   "outputs": [],
   "source": [
    "df = df.drop(columns=['index'])"
   ]
  },
  {
   "cell_type": "code",
   "execution_count": 77,
   "id": "6cb9f6c1",
   "metadata": {},
   "outputs": [
    {
     "data": {
      "text/html": [
       "<div>\n",
       "<style scoped>\n",
       "    .dataframe tbody tr th:only-of-type {\n",
       "        vertical-align: middle;\n",
       "    }\n",
       "\n",
       "    .dataframe tbody tr th {\n",
       "        vertical-align: top;\n",
       "    }\n",
       "\n",
       "    .dataframe thead th {\n",
       "        text-align: right;\n",
       "    }\n",
       "</style>\n",
       "<table border=\"1\" class=\"dataframe\">\n",
       "  <thead>\n",
       "    <tr style=\"text-align: right;\">\n",
       "      <th></th>\n",
       "      <th>id</th>\n",
       "      <th>title</th>\n",
       "      <th>tags</th>\n",
       "    </tr>\n",
       "  </thead>\n",
       "  <tbody>\n",
       "    <tr>\n",
       "      <th>0</th>\n",
       "      <td>212606</td>\n",
       "      <td>A Thousand Times Good Night</td>\n",
       "      <td>drama juliettebinoche nikolajcoster-waldau mar...</td>\n",
       "    </tr>\n",
       "    <tr>\n",
       "      <th>1</th>\n",
       "      <td>212748</td>\n",
       "      <td>Rhymes for Young Ghouls</td>\n",
       "      <td>drama roseannesupernault markantonykrupa dever...</td>\n",
       "    </tr>\n",
       "    <tr>\n",
       "      <th>2</th>\n",
       "      <td>10940</td>\n",
       "      <td>Babylon 5: In the Beginning</td>\n",
       "      <td>action drama sciencefiction adventure brucebox...</td>\n",
       "    </tr>\n",
       "    <tr>\n",
       "      <th>3</th>\n",
       "      <td>39993</td>\n",
       "      <td>Short Night of Glass Dolls</td>\n",
       "      <td>horror mystery thriller ingridthulin jeansorel...</td>\n",
       "    </tr>\n",
       "    <tr>\n",
       "      <th>4</th>\n",
       "      <td>14847</td>\n",
       "      <td>Miss Conception</td>\n",
       "      <td>comedy romance heathergraham miakirshner tomel...</td>\n",
       "    </tr>\n",
       "  </tbody>\n",
       "</table>\n",
       "</div>"
      ],
      "text/plain": [
       "       id                        title  \\\n",
       "0  212606  A Thousand Times Good Night   \n",
       "1  212748      Rhymes for Young Ghouls   \n",
       "2   10940  Babylon 5: In the Beginning   \n",
       "3   39993   Short Night of Glass Dolls   \n",
       "4   14847              Miss Conception   \n",
       "\n",
       "                                                tags  \n",
       "0  drama juliettebinoche nikolajcoster-waldau mar...  \n",
       "1  drama roseannesupernault markantonykrupa dever...  \n",
       "2  action drama sciencefiction adventure brucebox...  \n",
       "3  horror mystery thriller ingridthulin jeansorel...  \n",
       "4  comedy romance heathergraham miakirshner tomel...  "
      ]
     },
     "execution_count": 77,
     "metadata": {},
     "output_type": "execute_result"
    }
   ],
   "source": [
    "df.head()"
   ]
  },
  {
   "cell_type": "code",
   "execution_count": 78,
   "id": "b531b700",
   "metadata": {},
   "outputs": [
    {
     "data": {
      "text/plain": [
       "id        int64\n",
       "title    object\n",
       "tags     object\n",
       "dtype: object"
      ]
     },
     "execution_count": 78,
     "metadata": {},
     "output_type": "execute_result"
    }
   ],
   "source": [
    "df.dtypes"
   ]
  },
  {
   "cell_type": "code",
   "execution_count": 79,
   "id": "54328753",
   "metadata": {},
   "outputs": [
    {
     "data": {
      "text/plain": [
       "id       0\n",
       "title    0\n",
       "tags     0\n",
       "dtype: int64"
      ]
     },
     "execution_count": 79,
     "metadata": {},
     "output_type": "execute_result"
    }
   ],
   "source": [
    "df.isna().sum()"
   ]
  },
  {
   "cell_type": "markdown",
   "id": "f53b0880",
   "metadata": {},
   "source": [
    "## save the modified dataframe as csv file"
   ]
  },
  {
   "cell_type": "code",
   "execution_count": 80,
   "id": "07ff0cb4",
   "metadata": {},
   "outputs": [],
   "source": [
    "df.to_csv('movies_tags.csv')"
   ]
  },
  {
   "cell_type": "markdown",
   "id": "eda7c69c",
   "metadata": {},
   "source": [
    "## stemming the tags"
   ]
  },
  {
   "cell_type": "code",
   "execution_count": null,
   "id": "24236fc6",
   "metadata": {
    "scrolled": true
   },
   "outputs": [],
   "source": [
    "!pip install nltk"
   ]
  },
  {
   "cell_type": "code",
   "execution_count": 86,
   "id": "f348fb24",
   "metadata": {},
   "outputs": [
    {
     "name": "stderr",
     "output_type": "stream",
     "text": [
      "[nltk_data] Downloading package punkt to /home/tinku/nltk_data...\n",
      "[nltk_data]   Package punkt is already up-to-date!\n"
     ]
    }
   ],
   "source": [
    "import nltk\n",
    "nltk.download('punkt')\n",
    "from nltk.stem.porter import *\n",
    "\n",
    "porterStemmer = PorterStemmer()\n",
    "\n",
    "def stemmer(sentence):\n",
    "    wordList = nltk.TreebankWordTokenizer().tokenize(sentence)\n",
    "\n",
    "    stemWords = [porterStemmer.stem(word) for word in wordList]\n",
    "\n",
    "    return ' '.join(stemWords)"
   ]
  },
  {
   "cell_type": "code",
   "execution_count": 87,
   "id": "ae8fc90e",
   "metadata": {},
   "outputs": [
    {
     "data": {
      "text/plain": [
       "'drama juliettebinoche nikolajcoster-waldau mariadoylekennedy erikpoppe f On assignment while photographing a female suicide bomber in Kabul, Rebecca – one of the world’s top war photojournalists - gets badly hurt. Back home, another bomb drops as her husband and daughters give her an ultimatum: her work or her family. war photojournalist paradoxspillefilma/s zentropainternationalsweden newgrangepictures'"
      ]
     },
     "execution_count": 87,
     "metadata": {},
     "output_type": "execute_result"
    }
   ],
   "source": [
    "sentence = df['tags'][0]\n",
    "sentence"
   ]
  },
  {
   "cell_type": "code",
   "execution_count": 88,
   "id": "975a75e4",
   "metadata": {
    "scrolled": true
   },
   "outputs": [
    {
     "data": {
      "text/plain": [
       "'drama juliettebinoch nikolajcoster-waldau mariadoylekennedi erikpopp f on assign while photograph a femal suicid bomber in kabul , rebecca – one of the world’ top war photojournalist - get badli hurt. back home , anoth bomb drop as her husband and daughter give her an ultimatum : her work or her family. war photojournalist paradoxspillefilma/ zentropainternationalsweden newgrangepictur'"
      ]
     },
     "execution_count": 88,
     "metadata": {},
     "output_type": "execute_result"
    }
   ],
   "source": [
    "stemmer(sentence)"
   ]
  },
  {
   "cell_type": "code",
   "execution_count": 89,
   "id": "76cb6890",
   "metadata": {},
   "outputs": [],
   "source": [
    "df['tags'] = df['tags'].apply(stemmer)"
   ]
  },
  {
   "cell_type": "markdown",
   "id": "7b98b608",
   "metadata": {},
   "source": [
    "## vectorize the tags column\n",
    "\n",
    "- With this we can represent every movie as a vector on the n-D plane"
   ]
  },
  {
   "cell_type": "code",
   "execution_count": null,
   "id": "38ddb73b",
   "metadata": {
    "scrolled": true
   },
   "outputs": [],
   "source": [
    "!pip install scikit-learn"
   ]
  },
  {
   "cell_type": "code",
   "execution_count": 90,
   "id": "d6d66cf6",
   "metadata": {},
   "outputs": [],
   "source": [
    "from sklearn.feature_extraction.text import CountVectorizer"
   ]
  },
  {
   "cell_type": "code",
   "execution_count": 91,
   "id": "6f89f6ec",
   "metadata": {},
   "outputs": [],
   "source": [
    "cv = CountVectorizer(max_features=5000, stop_words='english')"
   ]
  },
  {
   "cell_type": "code",
   "execution_count": 92,
   "id": "cb607fcd",
   "metadata": {},
   "outputs": [],
   "source": [
    "vector = cv.fit_transform(df['tags']).toarray()"
   ]
  },
  {
   "cell_type": "code",
   "execution_count": 93,
   "id": "0171211f",
   "metadata": {},
   "outputs": [
    {
     "data": {
      "text/plain": [
       "(10000, 5000)"
      ]
     },
     "execution_count": 93,
     "metadata": {},
     "output_type": "execute_result"
    }
   ],
   "source": [
    "vector.shape"
   ]
  },
  {
   "cell_type": "markdown",
   "id": "bb27344d",
   "metadata": {},
   "source": [
    "### Find the Angular distance\n",
    "\n",
    "- With cosine_similarity we can find the Angular Distance between any two vectors\n",
    "- Lesser the distance, greater the similarity"
   ]
  },
  {
   "cell_type": "code",
   "execution_count": 94,
   "id": "2838cbf7",
   "metadata": {},
   "outputs": [],
   "source": [
    "from sklearn.metrics.pairwise import cosine_similarity"
   ]
  },
  {
   "cell_type": "code",
   "execution_count": 95,
   "id": "5038d850",
   "metadata": {},
   "outputs": [],
   "source": [
    "similarity = cosine_similarity(vector)"
   ]
  },
  {
   "cell_type": "code",
   "execution_count": 96,
   "id": "bfc26bcb",
   "metadata": {},
   "outputs": [
    {
     "data": {
      "text/html": [
       "<div>\n",
       "<style scoped>\n",
       "    .dataframe tbody tr th:only-of-type {\n",
       "        vertical-align: middle;\n",
       "    }\n",
       "\n",
       "    .dataframe tbody tr th {\n",
       "        vertical-align: top;\n",
       "    }\n",
       "\n",
       "    .dataframe thead th {\n",
       "        text-align: right;\n",
       "    }\n",
       "</style>\n",
       "<table border=\"1\" class=\"dataframe\">\n",
       "  <thead>\n",
       "    <tr style=\"text-align: right;\">\n",
       "      <th></th>\n",
       "      <th>0</th>\n",
       "      <th>1</th>\n",
       "      <th>2</th>\n",
       "      <th>3</th>\n",
       "      <th>4</th>\n",
       "      <th>5</th>\n",
       "      <th>6</th>\n",
       "      <th>7</th>\n",
       "      <th>8</th>\n",
       "      <th>9</th>\n",
       "      <th>...</th>\n",
       "      <th>9990</th>\n",
       "      <th>9991</th>\n",
       "      <th>9992</th>\n",
       "      <th>9993</th>\n",
       "      <th>9994</th>\n",
       "      <th>9995</th>\n",
       "      <th>9996</th>\n",
       "      <th>9997</th>\n",
       "      <th>9998</th>\n",
       "      <th>9999</th>\n",
       "    </tr>\n",
       "  </thead>\n",
       "  <tbody>\n",
       "    <tr>\n",
       "      <th>0</th>\n",
       "      <td>1.000000</td>\n",
       "      <td>0.059131</td>\n",
       "      <td>0.209061</td>\n",
       "      <td>0.000000</td>\n",
       "      <td>0.000000</td>\n",
       "      <td>0.000000</td>\n",
       "      <td>0.000000</td>\n",
       "      <td>0.047974</td>\n",
       "      <td>0.103418</td>\n",
       "      <td>0.114992</td>\n",
       "      <td>...</td>\n",
       "      <td>0.000000</td>\n",
       "      <td>0.020056</td>\n",
       "      <td>0.056980</td>\n",
       "      <td>0.048912</td>\n",
       "      <td>0.056980</td>\n",
       "      <td>0.021990</td>\n",
       "      <td>0.000000</td>\n",
       "      <td>0.000000</td>\n",
       "      <td>0.216612</td>\n",
       "      <td>0.046524</td>\n",
       "    </tr>\n",
       "    <tr>\n",
       "      <th>1</th>\n",
       "      <td>0.059131</td>\n",
       "      <td>1.000000</td>\n",
       "      <td>0.054393</td>\n",
       "      <td>0.000000</td>\n",
       "      <td>0.000000</td>\n",
       "      <td>0.067267</td>\n",
       "      <td>0.000000</td>\n",
       "      <td>0.062409</td>\n",
       "      <td>0.134535</td>\n",
       "      <td>0.074796</td>\n",
       "      <td>...</td>\n",
       "      <td>0.000000</td>\n",
       "      <td>0.026091</td>\n",
       "      <td>0.074125</td>\n",
       "      <td>0.000000</td>\n",
       "      <td>0.074125</td>\n",
       "      <td>0.028606</td>\n",
       "      <td>0.000000</td>\n",
       "      <td>0.000000</td>\n",
       "      <td>0.035223</td>\n",
       "      <td>0.060523</td>\n",
       "    </tr>\n",
       "    <tr>\n",
       "      <th>2</th>\n",
       "      <td>0.209061</td>\n",
       "      <td>0.054393</td>\n",
       "      <td>1.000000</td>\n",
       "      <td>0.000000</td>\n",
       "      <td>0.000000</td>\n",
       "      <td>0.000000</td>\n",
       "      <td>0.025976</td>\n",
       "      <td>0.066194</td>\n",
       "      <td>0.095130</td>\n",
       "      <td>0.132221</td>\n",
       "      <td>...</td>\n",
       "      <td>0.000000</td>\n",
       "      <td>0.055347</td>\n",
       "      <td>0.052414</td>\n",
       "      <td>0.089984</td>\n",
       "      <td>0.052414</td>\n",
       "      <td>0.020228</td>\n",
       "      <td>0.054393</td>\n",
       "      <td>0.043853</td>\n",
       "      <td>0.174347</td>\n",
       "      <td>0.042796</td>\n",
       "    </tr>\n",
       "    <tr>\n",
       "      <th>3</th>\n",
       "      <td>0.000000</td>\n",
       "      <td>0.000000</td>\n",
       "      <td>0.000000</td>\n",
       "      <td>1.000000</td>\n",
       "      <td>0.051503</td>\n",
       "      <td>0.134535</td>\n",
       "      <td>0.110208</td>\n",
       "      <td>0.156022</td>\n",
       "      <td>0.000000</td>\n",
       "      <td>0.149592</td>\n",
       "      <td>...</td>\n",
       "      <td>0.101274</td>\n",
       "      <td>0.026091</td>\n",
       "      <td>0.000000</td>\n",
       "      <td>0.190885</td>\n",
       "      <td>0.148250</td>\n",
       "      <td>0.143032</td>\n",
       "      <td>0.076923</td>\n",
       "      <td>0.124035</td>\n",
       "      <td>0.000000</td>\n",
       "      <td>0.000000</td>\n",
       "    </tr>\n",
       "    <tr>\n",
       "      <th>4</th>\n",
       "      <td>0.000000</td>\n",
       "      <td>0.000000</td>\n",
       "      <td>0.000000</td>\n",
       "      <td>0.051503</td>\n",
       "      <td>1.000000</td>\n",
       "      <td>0.000000</td>\n",
       "      <td>0.049192</td>\n",
       "      <td>0.083569</td>\n",
       "      <td>0.000000</td>\n",
       "      <td>0.000000</td>\n",
       "      <td>...</td>\n",
       "      <td>0.000000</td>\n",
       "      <td>0.017469</td>\n",
       "      <td>0.148888</td>\n",
       "      <td>0.000000</td>\n",
       "      <td>0.049629</td>\n",
       "      <td>0.038306</td>\n",
       "      <td>0.000000</td>\n",
       "      <td>0.000000</td>\n",
       "      <td>0.000000</td>\n",
       "      <td>0.040522</td>\n",
       "    </tr>\n",
       "  </tbody>\n",
       "</table>\n",
       "<p>5 rows × 10000 columns</p>\n",
       "</div>"
      ],
      "text/plain": [
       "       0         1         2         3         4         5         6     \\\n",
       "0  1.000000  0.059131  0.209061  0.000000  0.000000  0.000000  0.000000   \n",
       "1  0.059131  1.000000  0.054393  0.000000  0.000000  0.067267  0.000000   \n",
       "2  0.209061  0.054393  1.000000  0.000000  0.000000  0.000000  0.025976   \n",
       "3  0.000000  0.000000  0.000000  1.000000  0.051503  0.134535  0.110208   \n",
       "4  0.000000  0.000000  0.000000  0.051503  1.000000  0.000000  0.049192   \n",
       "\n",
       "       7         8         9     ...      9990      9991      9992      9993  \\\n",
       "0  0.047974  0.103418  0.114992  ...  0.000000  0.020056  0.056980  0.048912   \n",
       "1  0.062409  0.134535  0.074796  ...  0.000000  0.026091  0.074125  0.000000   \n",
       "2  0.066194  0.095130  0.132221  ...  0.000000  0.055347  0.052414  0.089984   \n",
       "3  0.156022  0.000000  0.149592  ...  0.101274  0.026091  0.000000  0.190885   \n",
       "4  0.083569  0.000000  0.000000  ...  0.000000  0.017469  0.148888  0.000000   \n",
       "\n",
       "       9994      9995      9996      9997      9998      9999  \n",
       "0  0.056980  0.021990  0.000000  0.000000  0.216612  0.046524  \n",
       "1  0.074125  0.028606  0.000000  0.000000  0.035223  0.060523  \n",
       "2  0.052414  0.020228  0.054393  0.043853  0.174347  0.042796  \n",
       "3  0.148250  0.143032  0.076923  0.124035  0.000000  0.000000  \n",
       "4  0.049629  0.038306  0.000000  0.000000  0.000000  0.040522  \n",
       "\n",
       "[5 rows x 10000 columns]"
      ]
     },
     "execution_count": 96,
     "metadata": {},
     "output_type": "execute_result"
    }
   ],
   "source": [
    "pd.DataFrame(similarity).head()"
   ]
  },
  {
   "cell_type": "markdown",
   "id": "422ebef3",
   "metadata": {},
   "source": [
    "### Using similarity we will find out any 5 movies with the greatest similarity value excluding the movie itself and recommend those 5 movies to the user"
   ]
  },
  {
   "cell_type": "markdown",
   "id": "87471681",
   "metadata": {},
   "source": [
    "## Movie Recommendation function"
   ]
  },
  {
   "cell_type": "code",
   "execution_count": 97,
   "id": "8e67fee9",
   "metadata": {},
   "outputs": [
    {
     "data": {
      "text/plain": [
       "[(7381, 0.3265986323710904),\n",
       " (4353, 0.2961744388795461),\n",
       " (8132, 0.2782433374561009),\n",
       " (785, 0.273861278752583),\n",
       " (3630, 0.2666666666666666)]"
      ]
     },
     "execution_count": 97,
     "metadata": {},
     "output_type": "execute_result"
    }
   ],
   "source": [
    "movie_index = df[df['title'] == 'Eureka'].index[0]\n",
    "sorted(list(enumerate(similarity[movie_index])), reverse=True, key= lambda x: x[1])[1:6]"
   ]
  },
  {
   "cell_type": "code",
   "execution_count": 98,
   "id": "f408f899",
   "metadata": {},
   "outputs": [],
   "source": [
    "def recommend(movie):\n",
    "    movie_index = df[df['title'] == movie].index[0]\n",
    "    most_similar = sorted(list(enumerate(similarity[movie_index])), reverse=True, key= lambda x: x[1])\n",
    "    for i in most_similar[1:6]:\n",
    "        print(df.iloc[i[0]].title)"
   ]
  },
  {
   "cell_type": "code",
   "execution_count": 101,
   "id": "0f2f9c9b",
   "metadata": {},
   "outputs": [
    {
     "name": "stdout",
     "output_type": "stream",
     "text": [
      "Fullmetal Alchemist the Movie: Conqueror of Shamballa\n",
      "Act Of Love\n",
      "Asphalt Playground\n",
      "The Tempest\n",
      "The Tempest\n"
     ]
    }
   ],
   "source": [
    "recommend('Deathlands')"
   ]
  },
  {
   "cell_type": "markdown",
   "id": "d4a19594",
   "metadata": {},
   "source": [
    "## Pickling"
   ]
  },
  {
   "cell_type": "code",
   "execution_count": 100,
   "id": "1097dc8f",
   "metadata": {},
   "outputs": [],
   "source": [
    "import pickle\n",
    "pickle.dump(df,open('movie_list.pkl','wb'))\n",
    "pickle.dump(similarity,open('similarity.pkl','wb'))"
   ]
  },
  {
   "cell_type": "code",
   "execution_count": null,
   "id": "a60b26b0",
   "metadata": {},
   "outputs": [],
   "source": []
  }
 ],
 "metadata": {
  "kernelspec": {
   "display_name": "Python 3 (ipykernel)",
   "language": "python",
   "name": "python3"
  },
  "language_info": {
   "codemirror_mode": {
    "name": "ipython",
    "version": 3
   },
   "file_extension": ".py",
   "mimetype": "text/x-python",
   "name": "python",
   "nbconvert_exporter": "python",
   "pygments_lexer": "ipython3",
   "version": "3.10.6"
  }
 },
 "nbformat": 4,
 "nbformat_minor": 5
}
